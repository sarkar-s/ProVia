{
 "cells": [
  {
   "cell_type": "code",
   "execution_count": 1,
   "metadata": {},
   "outputs": [],
   "source": [
    "import numpy as np\n",
    "import scipy.optimize as optim\n",
    "import math\n",
    "import os,sys\n",
    "import pandas as pd\n",
    "import copy\n",
    "import matplotlib.pyplot as plt\n",
    "from matplotlib import rcParams\n",
    "import scipy.stats as st\n",
    "from scipy.stats import t\n",
    "\n",
    "import BA_C\n",
    "\n",
    "from sklearn.metrics import auc"
   ]
  },
  {
   "cell_type": "code",
   "execution_count": 2,
   "metadata": {},
   "outputs": [],
   "source": [
    "def linear(x,a,b):\n",
    "    return (a + b*x)"
   ]
  },
  {
   "cell_type": "code",
   "execution_count": 3,
   "metadata": {},
   "outputs": [],
   "source": [
    "data_folder = '/Users/sns9/CodeX/ProVia/data/Annexin'\n",
    "os.chdir(data_folder)"
   ]
  },
  {
   "cell_type": "markdown",
   "metadata": {},
   "source": [
    "x_dict = {}\n",
    "x_dict['AH'] = 'Healthy cells (%)'\n",
    "x_dict['AN'] = 'Necrotic cells (%)'\n",
    "x_dict['AEA'] = 'Early Apoptotic cells (%)'\n",
    "x_dict['AH'] = 'Healthy cells (%)'"
   ]
  },
  {
   "cell_type": "code",
   "execution_count": 4,
   "metadata": {},
   "outputs": [
    {
     "name": "stdout",
     "output_type": "stream",
     "text": [
      "['AODAPI', 'AH', 'AEA', 'ALA', 'AN', 'Experiment name']\n",
      "['Annexin-1-2', 'Annexin-3-4', 'Annexin-5-6', 'Annexin-10-11', 'Annexin-12-13']\n"
     ]
    }
   ],
   "source": [
    "v24 = pd.read_csv('all-Annexin24h-for-analysis-5.csv')\n",
    "#v24 = pd.read_csv('Annexin24h-summary.csv')\n",
    "\n",
    "print(list(v24))\n",
    "\n",
    "name_tag = {}\n",
    "\n",
    "name_tag['AH'] = 'Healthy cells (%)'\n",
    "name_tag['AEA'] = 'Early apoptotic cells (%)'\n",
    "name_tag['ALA'] = 'Late apoptotic cells (%)'\n",
    "name_tag['AN'] = 'Necrotic cells (%)'\n",
    "\n",
    "experiment_name = v24['Experiment name'].dropna().to_list()\n",
    "\n",
    "print(experiment_name)"
   ]
  },
  {
   "cell_type": "code",
   "execution_count": 5,
   "metadata": {},
   "outputs": [],
   "source": [
    "#weight1 = pd.Series([0.2, 0.3, 0.4, 0.5, 0.75, 0.95])\n",
    "weight1 = pd.Series([0.2, 0.3, 0.4, 0.6, 0.7, 0.8, 0.9])\n",
    "colors1 = weight1.apply(lambda x: (0,0,0,x)).tolist()"
   ]
  },
  {
   "cell_type": "code",
   "execution_count": 6,
   "metadata": {},
   "outputs": [
    {
     "name": "stdout",
     "output_type": "stream",
     "text": [
      "[ 86.18366332  87.92500295  89.84648275 110.00123526 115.97912049\n",
      " 180.89372565 158.63760854  84.56333943  84.42062572  85.65138566\n",
      "  90.09609506  94.69099903 116.54978838 243.81197927  85.82288237\n",
      "  87.95048031  86.32561598  86.88472762  95.22360242  96.51933228\n",
      " 178.32747476  84.63235808  84.63235808  84.63235808  86.20932728\n",
      "  86.20932728  98.65221957 167.80648213  83.09980938  87.83248261\n",
      "  87.83248261  89.50367925  92.99809886 104.85972711 143.80110711]\n"
     ]
    }
   ],
   "source": [
    "all_data = {}\n",
    "\n",
    "for n in list(v24):\n",
    "    all_data[n] = v24[n].to_numpy()\n",
    "\n",
    "#all_data['T2'] = 76.76*np.power(all_data['AODAPI']/100,-2.4)\n",
    "all_data['T2'] = 81.61*np.power(all_data['AODAPI']/100,-1.8)\n",
    "\n",
    "print(all_data['T2'])"
   ]
  },
  {
   "cell_type": "code",
   "execution_count": 7,
   "metadata": {},
   "outputs": [
    {
     "name": "stdout",
     "output_type": "stream",
     "text": [
      "LinregressResult(slope=1.9320101410605384, intercept=72.41589157204606, rvalue=0.6987838863880179, pvalue=3.031277498838654e-06, stderr=0.34428469499371595, intercept_stderr=7.582495010669461)\n"
     ]
    }
   ],
   "source": [
    "tag = 'ALA'\n",
    "\n",
    "result = st.linregress(all_data[tag],all_data['T2'],alternative='two-sided')\n",
    "print(result)\n",
    "\n",
    "r_text = r'$\\mathrm{R}^2 = ' + str(round(result.rvalue**2,3)) + '$'"
   ]
  },
  {
   "cell_type": "code",
   "execution_count": 8,
   "metadata": {},
   "outputs": [
    {
     "name": "stdout",
     "output_type": "stream",
     "text": [
      "[72.41589154  1.93201014]\n",
      "[[57.49422952 -2.09375683]\n",
      " [-2.09375683  0.11853195]]\n"
     ]
    }
   ],
   "source": [
    "results = optim.curve_fit(linear,all_data[tag],all_data['T2'],absolute_sigma=False,full_output=True)\n",
    "\n",
    "popt, pcov = results[0], results[1]\n",
    "\n",
    "p_std = np.sqrt(np.diag(pcov))\n",
    "\n",
    "print(popt)\n",
    "print(pcov)\n",
    "\n",
    "#fitname = r'T2$_{\\mathrm{est}}$ = exp(' + str(round(popt[0],3)) + ' - ' + str(round(popt[1],3)) + '$(100-C)$)'\n",
    "\n",
    "fitname = r'T2$_{\\mathrm{est}}$ = ' + str(round(popt[0],3)) + ' + ' + str(round(abs(popt[1]),3)) + tag"
   ]
  },
  {
   "cell_type": "code",
   "execution_count": 9,
   "metadata": {},
   "outputs": [],
   "source": [
    "dof = len(all_data['T2']) - 2\n",
    "    \n",
    "tinv = lambda p, df: abs(t.ppf(p/2,df))\n",
    "ts = tinv(0.05,dof)\n",
    "\n",
    "s_err = ts*result.stderr\n",
    "i_err = ts*result.intercept_stderr"
   ]
  },
  {
   "cell_type": "code",
   "execution_count": 10,
   "metadata": {},
   "outputs": [
    {
     "name": "stdout",
     "output_type": "stream",
     "text": [
      "26.79269675754325\n"
     ]
    }
   ],
   "source": [
    "residual = linear(all_data[tag],popt[0],popt[1]) - all_data['T2']\n",
    "\n",
    "norm_RSS = math.sqrt(np.dot(residual,residual)/(len(all_data['T2'])-2))\n",
    "print(norm_RSS)\n",
    "\n",
    "RSS_text = r's.d. = ' + str(round(norm_RSS,2)) + ' h'"
   ]
  },
  {
   "cell_type": "markdown",
   "metadata": {},
   "source": [
    "fitname = r'T2$_{\\mathrm{est}}$ = (' + str(round(result.intercept,1)) + '$\\pm$' + str(round(i_err,1)) + ')'\n",
    "fitname += '+ (' + str(round(result.slope,1)) + '$\\pm$' + str(round(s_err,1)) + ')'+ name_tag[tag]\n",
    "\n",
    "print(fitname)"
   ]
  },
  {
   "cell_type": "code",
   "execution_count": 11,
   "metadata": {},
   "outputs": [],
   "source": [
    "d = all_data[tag]\n",
    "mean_x = np.linspace(0.8*np.min(d),1.2*np.max(d),100)\n",
    "mean_t2 = linear(mean_x,popt[0],popt[1])"
   ]
  },
  {
   "cell_type": "code",
   "execution_count": 12,
   "metadata": {},
   "outputs": [],
   "source": [
    "n_samples = 10000\n",
    "\n",
    "s_is, i_is = [], []\n",
    "\n",
    "t2_up = np.zeros(shape=mean_x.shape)\n",
    "t2_low = np.zeros(shape=mean_x.shape)\n",
    "\n",
    "rt2_up = np.zeros(shape=mean_x.shape)\n",
    "rt2_low = np.zeros(shape=mean_x.shape)\n",
    "\n",
    "effective_sigma = np.zeros(shape=mean_x.shape)\n",
    "\n",
    "for i in range(0,mean_x.shape[0]):\n",
    "    samples = []\n",
    "    \n",
    "    a_samples, b_samples = np.random.multivariate_normal(popt,pcov,n_samples).T\n",
    "        \n",
    "    for a_sample,b_sample in zip(a_samples,b_samples):\n",
    "        samples.append(linear(mean_x[i],a_sample,b_sample))\n",
    "        \n",
    "    sigma = np.std(samples)\n",
    "    \n",
    "    effective_sigma[i] = math.sqrt(sigma**2 + norm_RSS**2)\n",
    "    \n",
    "    ci95 = effective_sigma[i]*ts\n",
    "        \n",
    "    t2_low[i], t2_up[i] = mean_t2[i] - ci95, mean_t2[i] + ci95\n",
    "    \n",
    "    rt2_low[i], rt2_up[i] = mean_t2[i] - sigma*ts, mean_t2[i] + sigma*ts"
   ]
  },
  {
   "cell_type": "code",
   "execution_count": 13,
   "metadata": {},
   "outputs": [],
   "source": [
    "# Number of points in each set\n",
    "n = 7"
   ]
  },
  {
   "cell_type": "code",
   "execution_count": 14,
   "metadata": {},
   "outputs": [
    {
     "data": {
      "image/png": "[encoded data removed]",
      "text/plain": [
       "<Figure size 576x504 with 1 Axes>"
      ]
     },
     "metadata": {
      "needs_background": "light"
     },
     "output_type": "display_data"
    }
   ],
   "source": [
    "fig, axs = plt.subplots(figsize=(8,7))\n",
    "\n",
    "rcParams['font.family'] = 'sans-serif'\n",
    "rcParams['font.sans-serif'] = ['Times New Roman']\n",
    "\n",
    "#plt.errorbar(v0[:,0],v0[:,3],v0[:,4],v0[:,1],fmt='o',lw=2,alpha=0.5,mew=2,ms=10,color='#000000',capsize=5,capthick=1,label='0 h')\n",
    "plt.scatter(all_data[tag][:n],all_data['T2'][:n],marker='o',linewidth=0,s=100,c=colors1)\n",
    "plt.scatter(all_data[tag][n:2*n],all_data['T2'][n:2*n],marker='^',linewidth=0,s=100,c=colors1)\n",
    "plt.scatter(all_data[tag][2*n:3*n],all_data['T2'][2*n:3*n],marker='X',linewidth=0,s=100,c=colors1)\n",
    "plt.scatter(all_data[tag][3*n:4*n],all_data['T2'][3*n:4*n],marker='s',linewidth=0,s=100,c=colors1)\n",
    "plt.scatter(all_data[tag][4*n:],all_data['T2'][4*n:],marker='d',linewidth=0,s=100,c=colors1)\n",
    "\n",
    "plt.scatter(all_data[tag][n-1],all_data['T2'][n-1],marker='o',s=100,c='black',label=experiment_name[0])\n",
    "plt.scatter(all_data[tag][2*n-1],all_data['T2'][2*n-1],marker='^',s=100,c='black',label=experiment_name[1])\n",
    "plt.scatter(all_data[tag][3*n-1],all_data['T2'][3*n-1],marker='X',s=100,c='black',label=experiment_name[2])\n",
    "plt.scatter(all_data[tag][4*n-1],all_data['T2'][4*n-1],marker='s',s=100,c='black',label=experiment_name[3])\n",
    "plt.scatter(all_data[tag][-1],all_data['T2'][-1],marker='d',s=100,c='black',label=experiment_name[4])\n",
    "\n",
    "#plt.plot(mean_x,mean_t2,alpha=0.6,lw=4,color='#660000')\n",
    "#plt.fill_between(mean_x,t2_up,t2_low,alpha=0.15,color='#660000',linewidth=0.0)\n",
    "#plt.fill_between(mean_x,rt2_up,rt2_low,alpha=0.2,color='#000066',linewidth=0.0)\n",
    "\n",
    "#plt.plot(aa1,T2aa1,linewidth=3,color='#000000',alpha=0.4,label='Study 1')#,label=r'$(239.8 \\pm 25.8) - (2.15 \\pm 0.51)[A_H]$')\n",
    "#plt.plot(aa2,T2aa2,linewidth=3,color='#000000',alpha=0.4,ls='--',label='Study 2')\n",
    "\n",
    "plt.xticks(size=20)\n",
    "plt.yticks(size=20)  \n",
    "plt.xlabel(name_tag[tag]+', 24 h',size=22)\n",
    "plt.ylabel(r'T2$_{\\mathrm{est}}$ (h)',size=22,rotation=90)\n",
    "plt.minorticks_on()\n",
    "#plt.xlim(90,100)\n",
    "#plt.ylim(50,200)\n",
    "axs.tick_params(which='major', length=8)\n",
    "axs.tick_params(which='minor', length=4)\n",
    "plt.legend(frameon=True,prop={'size': 18},markerscale=1.0,handlelength=2.0,loc='upper right')\n",
    "plt.text(50,180,r_text,fontsize=18)\n",
    "#plt.text(5,210,RSS_text,fontsize=20)\n",
    "\n",
    "#plt.plot(np.linspace(7,9,2),26*np.ones(2,),color='#660000',alpha=0.7,lw=3)\n",
    "#plt.text(10,24,fitname,fontsize=18)\n",
    "\n",
    "#axs.invert_xaxis()\n",
    "\n",
    "plt.tight_layout()\n",
    "\n",
    "#plt.savefig('Annexin-'+tag+'-24h-vs-T2-from-AODAPI-v3.png',dpi=600)\n",
    "#plt.savefig(tag+'-24h-noAODAPI-3s.png',dpi=300)"
   ]
  },
  {
   "cell_type": "code",
   "execution_count": 15,
   "metadata": {},
   "outputs": [],
   "source": [
    "data_folder = '/Users/sns9/CodeX/ProVia/data/cutoff'\n",
    "os.chdir(data_folder)\n",
    "\n",
    "# False positivity rate\n",
    "pvalue = 0.5\n",
    "\n",
    "T2_cutoff = np.zeros(shape=mean_x.shape)\n",
    "\n",
    "wf = open(tag+'_t2_mean.csv','w')\n",
    "\n",
    "for i in range(0,mean_x.shape[0]):\n",
    "    T2_cutoff[i] = st.t.ppf(1-pvalue,df=dof,loc=mean_t2[i],scale=effective_sigma[i])\n",
    "    \n",
    "    print(str(mean_x[i])+','+str(T2_cutoff[i]),file=wf)\n",
    "    \n",
    "wf.close()\n",
    "\n",
    "data_folder = '/Users/sns9/CodeX/ProVia/data/Annexin'\n",
    "os.chdir(data_folder)"
   ]
  },
  {
   "cell_type": "code",
   "execution_count": 16,
   "metadata": {},
   "outputs": [
    {
     "data": {
      "image/png": "[encoded data removed]",
      "text/plain": [
       "<Figure size 576x504 with 1 Axes>"
      ]
     },
     "metadata": {
      "needs_background": "light"
     },
     "output_type": "display_data"
    }
   ],
   "source": [
    "#fig, axs = plt.subplots(figsize=(8,7))\n",
    "fig, axs = plt.subplots(figsize=(8,7))\n",
    "\n",
    "rcParams['font.family'] = 'sans-serif'\n",
    "rcParams['font.sans-serif'] = ['Times New Roman']\n",
    "\n",
    "plt.plot(mean_x,T2_cutoff,lw=3.0,label=r'p-value = 0.05')\n",
    "        \n",
    "plt.xticks(size=24)\n",
    "plt.yticks(size=24)  \n",
    "plt.xlabel('100-'+name_tag[tag],size=22)\n",
    "plt.ylabel(r'T2$_{\\mathrm{cutoff}}$ (h)',size=24,rotation=90,labelpad=10)\n",
    "#plt.xlim(50,100)\n",
    "#plt.ylim(0,1.75)\n",
    "plt.legend(frameon=False,prop={'size': 20,'family':'Times New Roman'},markerscale=1.0,handlelength=1.0,loc='best')\n",
    "\n",
    "#plt.yscale('log')\n",
    "#plt.xscale('log')\n",
    "\n",
    "plt.tight_layout()\n",
    "\n",
    "#plt.savefig('AODAPI-T2-cutoff_prob-v2.png',dpi=300)"
   ]
  },
  {
   "cell_type": "code",
   "execution_count": 19,
   "metadata": {},
   "outputs": [],
   "source": [
    "mean_x2 = np.linspace(np.min(mean_x),np.max(mean_x),1000)\n",
    "\n",
    "n_samples = 10000\n",
    "\n",
    "s_is, i_is = [], []\n",
    "\n",
    "t2 = np.zeros(shape=mean_x2.shape)\n",
    "\n",
    "t2_up = np.zeros(shape=mean_x2.shape)\n",
    "t2_low = np.zeros(shape=mean_x2.shape)\n",
    "\n",
    "rt2_up = np.zeros(shape=mean_x2.shape)\n",
    "rt2_low = np.zeros(shape=mean_x2.shape)\n",
    "\n",
    "effective_sigma = np.zeros(shape=mean_x2.shape)\n",
    "\n",
    "for i in range(0,mean_x2.shape[0]):\n",
    "    samples = []\n",
    "    \n",
    "    a_samples, b_samples = np.random.multivariate_normal(popt,pcov,n_samples).T\n",
    "    \n",
    "    t2[i] = linear(mean_x2[i],popt[0],popt[1])\n",
    "        \n",
    "    for a_sample,b_sample in zip(a_samples,b_samples):\n",
    "        samples.append(linear(mean_x2[i],a_sample,b_sample))\n",
    "        \n",
    "    #ci = st.norm.interval(alpha=0.95, loc=np.mean(samples), scale=np.std(samples))\n",
    "    \n",
    "    sigma = np.std(samples)\n",
    "    \n",
    "    effective_sigma[i] = math.sqrt(sigma**2 + norm_RSS**2)\n",
    "    \n",
    "    ci95 = effective_sigma[i]*ts\n",
    "    \n",
    "    #t2_low[i], t2_up[i] = ci[0], ci[1]\n",
    "    \n",
    "    t2_low[i], t2_up[i] = t2[i] - ci95, t2[i] + ci95\n",
    "    \n",
    "    rt2_low[i], rt2_up[i] = t2[i] - effective_sigma[i], t2[i] + effective_sigma[i]"
   ]
  },
  {
   "cell_type": "code",
   "execution_count": 20,
   "metadata": {},
   "outputs": [
    {
     "name": "stdout",
     "output_type": "stream",
     "text": [
      "12\n",
      "0.9215926318821847\n"
     ]
    }
   ],
   "source": [
    "#test_t2s = [100,150,200,250,300]\n",
    "test_t2s = [96,108,120,132,144,156,168,180,192,204,216,228,240,252,264]\n",
    "#test_t2s = [96,120,144,168,192,216,240,264]\n",
    "#test_t2s = [96,144,192,240]\n",
    "#test_t2s.reverse()\n",
    "#print(test_t2s)\n",
    "#test_t2s = list(np.linspace(72,264,16))\n",
    "\n",
    "#test_t2s = list(np.linspace(96,264,3))\n",
    "print(test_t2s[1] - test_t2s[0])\n",
    "#test_t2s.reverse()\n",
    "\n",
    "cutoff_probs = {}\n",
    "pdfs = {}\n",
    "cdfs = {}\n",
    "\n",
    "for k in test_t2s:\n",
    "    cutoff_probs[k] = np.zeros(shape=mean_x2.shape)\n",
    "    pdfs[k] = np.zeros(shape=mean_x2.shape)\n",
    "    cdfs[k] = np.zeros(shape=mean_x2.shape)\n",
    "    \n",
    "responses = np.zeros(shape=(len(test_t2s),mean_x2.shape[0]))\n",
    "\n",
    "j = 0\n",
    "\n",
    "for k in test_t2s:\n",
    "    for i in range(0,mean_x2.shape[0]):\n",
    "        cutoff_probs[k][i] = st.t.sf(k,df=dof,loc=t2[i],scale=effective_sigma[i])\n",
    "        pdfs[k][i] = st.t.pdf(k,df=dof,loc=t2[i],scale=effective_sigma[i])\n",
    "        \n",
    "    pdfs[k] *= 1.0/np.sum(pdfs[k])\n",
    "    \n",
    "    x = copy.deepcopy(pdfs[k])#[::-1])\n",
    "    cdfs[k] = np.round(np.array([np.sum(x[m:]) for m in range(0,pdfs[k].shape[0])]),3)\n",
    "    \n",
    "    responses[j,:] = pdfs[k]\n",
    "    \n",
    "    j += 1\n",
    "    \n",
    "c, e, p = BA_C.get_CC(responses)\n",
    "print(c)"
   ]
  },
  {
   "cell_type": "code",
   "execution_count": null,
   "metadata": {},
   "outputs": [],
   "source": [
    "fig = plt.figure(tight_layout=True,figsize=(15,10))\n",
    "gs = fig.add_gridspec(len(test_t2s),3, hspace=0)\n",
    "\n",
    "ax = fig.add_subplot(gs[:,0])\n",
    "ax.plot(mean_x2,t2,linewidth=4,color='#660000',alpha=0.6,label=fitname)\n",
    "ax.fill_between(mean_x2,t2_up,t2_low,alpha=0.15,color='#660000',linewidth=0.0)\n",
    "ax.fill_between(mean_x2,rt2_up,rt2_low,alpha=0.2,color='#660000',linewidth=0.0)\n",
    "\n",
    "ax.set_title(r'T2$_{\\mathrm{est}}$-vs-ALA',size=22,pad=10)\n",
    "\n",
    "ax.tick_params(axis='both',labelsize=24)\n",
    "ax.set_yticks(test_t2s)\n",
    "#ax.yticks(size=24)  \n",
    "#plt.xlabel(r'$\\ln$ AO/DAPI Viability (%)',size=24,labelpad=10)\n",
    "ax.set_xlabel(r'ALA (%), 24 h',size=24,labelpad=10)\n",
    "ax.set_ylabel(r'T2$_{\\mathrm{est}}$ (h)',size=24,rotation=90,labelpad=10)\n",
    "ax.set_ylim(75,275)\n",
    "ax.set_xlim(np.min(mean_x2),np.max(mean_x2))\n",
    "\n",
    "for t in test_t2s:\n",
    "    _alpha = 0.25 + 0.75*(t - np.min(test_t2s))/(np.max(test_t2s) - np.min(test_t2s))\n",
    "    \n",
    "    ax.plot(mean_x2,t*np.ones(shape=mean_x2.shape[0]),color='black',lw=3,alpha=_alpha)\n",
    "\n",
    "for k in range(len(test_t2s)):\n",
    "    ax = fig.add_subplot(gs[k,1])\n",
    "    \n",
    "    _alpha = 0.25 + 0.75*(test_t2s[k] - np.min(test_t2s))/(np.max(test_t2s) - np.min(test_t2s))\n",
    "    \n",
    "    ax.plot(mean_x2,cutoff_probs[test_t2s[k]],lw=3,color='black',label=str(test_t2s[k])+' h',alpha=_alpha)\n",
    "    ax.tick_params(axis='y',labelsize=12)\n",
    "    ax.set_ylim(-0.02,1.2)\n",
    "    ax.set_xlim(np.min(mean_x2),np.max(mean_x2))\n",
    "    ax.legend(frameon=True,prop={'size': 18,'family':'Times New Roman'},markerscale=1.0,handlelength=0.8,loc='best')\n",
    "\n",
    "    ax.tick_params(axis='y',labelsize=16)\n",
    "    \n",
    "    if k==len(test_t2s)-1:\n",
    "        ax.tick_params(axis='x',labelsize=24)\n",
    "    else:\n",
    "        ax.tick_params(axis='x',labelsize=0)\n",
    "        \n",
    "    if k==0:\n",
    "        ax.set_title(r'P[T2$_{\\mathrm{est}}$ $\\geq$ T2$_{\\mathrm{cutoff}}$]',size=22,pad=10)\n",
    "        \n",
    "ax.set_xlabel(r'ALA (%), 24 h',size=24,labelpad=10)\n",
    "        \n",
    "for k in range(len(test_t2s)):\n",
    "    ax = fig.add_subplot(gs[k,2])\n",
    "    \n",
    "    _alpha = 0.25 + 0.75*(test_t2s[k] - np.min(test_t2s))/(np.max(test_t2s) - np.min(test_t2s))\n",
    "    \n",
    "    ax.plot(mean_x2,pdfs[test_t2s[k]],lw=3,color='black',label=str(test_t2s[k])+' h',alpha=_alpha)\n",
    "    ax.tick_params(axis='y',labelsize=12)\n",
    "    #ax.set_ylim(-0.02,1.2)\n",
    "    ax.set_xlim(np.min(mean_x2),np.max(mean_x2))\n",
    "    ax.legend(frameon=True,prop={'size': 18,'family':'Times New Roman'},markerscale=1.0,handlelength=0.8,loc='best')\n",
    "\n",
    "    ax.set_ylim(-0.01,0.065)#1.2*np.max(probs_2[test_t2s[k]]))\n",
    "    \n",
    "    ax.tick_params(axis='y',labelsize=16)\n",
    "    \n",
    "    if k==len(test_t2s)-1:\n",
    "        ax.tick_params(axis='x',labelsize=24)\n",
    "    else:\n",
    "        ax.tick_params(axis='x',labelsize=0)\n",
    "        \n",
    "    if k==0:\n",
    "        ax.set_title('P[ALA|T2$_{\\mathrm{est}}$]',size=22,pad=10)\n",
    "          \n",
    "#plt.xlabel(r'$\\ln$ AO/DAPI Viability (%)',size=24,labelpad=10)\n",
    "ax.set_xlabel(r'ALA (%), 24 h',size=24,labelpad=10)\n",
    "\n",
    "#ax.plot(np.arange(0, 1e6, 1000))\n",
    "#ax.set_ylabel('YLabel0')\n",
    "#ax.set_xlabel('XLabel0')\n",
    "\n",
    "plt.savefig('ALA-T2-probabilities-combined.png',dpi=300)"
   ]
  },
  {
   "cell_type": "code",
   "execution_count": null,
   "metadata": {},
   "outputs": [],
   "source": [
    "test_t2s.reverse()\n",
    "\n",
    "wf = open('ALA24h-T2-cutoff0.05.csv','w')\n",
    "\n",
    "print('T2_cutoff,p-value,cyto')\n",
    "\n",
    "l = mean_x2.shape[0]-1\n",
    "\n",
    "for k in test_t2s:\n",
    "    for i in range(0,mean_x2.shape[0]):\n",
    "        a = round(st.t.sf(k,df=dof,loc=t2[l-i],scale=effective_sigma[l-i]),3)\n",
    "        \n",
    "        if a<=0.05:\n",
    "            v = round(mean_x2[l-i],1)\n",
    "            break\n",
    "        else:\n",
    "            v = 'N/A'\n",
    "    \n",
    "    print(k,a,v)\n",
    "    \n",
    "    outstring = str(k) + ',' + str(a) + ',' + str(v)\n",
    "    \n",
    "    print(outstring,file=wf)\n",
    "    \n",
    "wf.close()"
   ]
  },
  {
   "cell_type": "code",
   "execution_count": null,
   "metadata": {},
   "outputs": [],
   "source": [
    "fig, axs = plt.subplots(figsize=(5,10))\n",
    "\n",
    "plt.plot(mean_x2,t2,linewidth=4,color='#660000',alpha=0.6,label=fitname)\n",
    "\n",
    "plt.fill_between(mean_x2,t2_up,t2_low,alpha=0.15,color='#660000',linewidth=0.0)\n",
    "plt.fill_between(mean_x2,rt2_up,rt2_low,alpha=0.2,color='#660000',linewidth=0.0)\n",
    "\n",
    "plt.xticks(size=24)\n",
    "plt.yticks(size=24)  \n",
    "#plt.xlabel(r'$\\ln$ AO/DAPI Viability (%)',size=24,labelpad=10)\n",
    "plt.xlabel(name_tag[tag],size=22)\n",
    "plt.ylabel(r'T2$_{\\mathrm{est}}$ (h)',size=24,rotation=90,labelpad=10)\n",
    "plt.xlim(np.min(mean_x2),np.max(mean_x2))\n",
    "\n",
    "for t in test_t2s:\n",
    "    _alpha = 0.25 + 0.75*(t - np.min(test_t2s))/(np.max(test_t2s) - np.min(test_t2s))\n",
    "    \n",
    "    plt.plot(mean_x2,t*np.ones(shape=mean_x2.shape[0]),color='black',lw=3,alpha=_alpha)\n",
    "    \n",
    "plt.tight_layout()\n",
    "\n",
    "#plt.savefig('ALA_24h-vs-T2-probs.png',dpi=300)"
   ]
  },
  {
   "cell_type": "code",
   "execution_count": null,
   "metadata": {},
   "outputs": [],
   "source": [
    "fig = plt.figure(figsize=(6,10))\n",
    "gs = fig.add_gridspec(len(test_t2s), hspace=0)\n",
    "\n",
    "axs = gs.subplots(sharex=True)\n",
    "\n",
    "for k in range(0,len(test_t2s)):\n",
    "    _alpha = 0.25 + 0.75*(test_t2s[k] - np.min(test_t2s))/(np.max(test_t2s) - np.min(test_t2s))\n",
    "    \n",
    "    axs[k].plot(mean_x2,cdfs[test_t2s[k]],lw=3,color='black',label=str(test_t2s[k])+' h',alpha=_alpha)\n",
    "    axs[k].tick_params(axis='y',labelsize=12)\n",
    "    axs[k].set_xlim(48,102)\n",
    "    \n",
    "    \n",
    "    #axs[k].set_ylim(-0.005,1.2*np.max(probs[test_t2s[k]]))\n",
    "    \n",
    "    #plt.ylabel(r'T2 (h)',size=24,rotation=90,labelpad=10)\n",
    "    \n",
    "    axs[k].legend(frameon=True,prop={'size': 18,'family':'Times New Roman'},markerscale=1.0,handlelength=0.8,loc='best')\n",
    "\n",
    "    if k==4:\n",
    "        axs[k].set_ylabel(r'P['+ name_tag[tag] + ']',size=24,rotation=90,labelpad=10)\n",
    "    \n",
    "plt.xticks(size=24) \n",
    "#plt.xlabel(r'$\\ln$ AO/DAPI Viability (%)',size=24,labelpad=10)\n",
    "plt.xlabel(name_tag[tag],size=22)\n",
    "#plt.ylabel(r'T2 (h)',size=24,rotation=90,labelpad=10)\n",
    "plt.xlim(np.min(mean_x2),np.max(mean_x2))\n",
    "\n",
    "plt.tight_layout()\n",
    "\n",
    "#plt.savefig('ALA-T2-cuts.png',dpi=300)"
   ]
  },
  {
   "cell_type": "code",
   "execution_count": null,
   "metadata": {},
   "outputs": [],
   "source": [
    "fig, axs = plt.subplots(figsize=(8,7))\n",
    "#fig, axs = plt.subplots(figsize=(10,9))\n",
    "\n",
    "rcParams['font.family'] = 'sans-serif'\n",
    "rcParams['font.sans-serif'] = ['Times New Roman']\n",
    "\n",
    "for k in test_t2s[:-1]:\n",
    "    plt.plot(mean_x2,probs[k],lw=3.0,label=r'T2$_{\\mathrm{cutoff}}$ = '+str(k)+' h')\n",
    "    #plt.plot(probs[k],mean_x,lw=3.0,label=r'T2$_{\\mathrm{cutoff}}$ = '+str(k)+' h')\n",
    "    \n",
    "plt.xticks(size=24)\n",
    "plt.yticks(size=24)  \n",
    "plt.xlabel(r'Annexin, '+ tag + '(%)',size=22)\n",
    "#plt.ylabel(r'P[Annexin, '+ tag + '(%)]',size=22)\n",
    "plt.ylabel(r'P[T2$_{\\mathrm{expected}} \\geq$T2$_{\\mathrm{cutoff}}$]',size=24,rotation=90,labelpad=10)\n",
    "#plt.xlim(50,100)\n",
    "#plt.ylim(0,1.75)\n",
    "plt.legend(frameon=False,prop={'size': 20,'family':'Times New Roman'},markerscale=1.0,handlelength=1.0,loc='upper left')\n",
    "\n",
    "#plt.yscale('log')\n",
    "#plt.xscale('log')\n",
    "\n",
    "plt.tight_layout()\n",
    "\n",
    "#plt.savefig(tag+'_Annexin-T2-cutoff_prob-day1-48h.png',dpi=300)"
   ]
  },
  {
   "cell_type": "code",
   "execution_count": 38,
   "metadata": {},
   "outputs": [
    {
     "name": "stdout",
     "output_type": "stream",
     "text": [
      "1\n",
      "[0, 1, 2]\n"
     ]
    },
    {
     "data": {
      "image/png": "[encoded data removed]",
      "text/plain": [
       "<Figure size 648x216 with 2 Axes>"
      ]
     },
     "metadata": {
      "needs_background": "light"
     },
     "output_type": "display_data"
    }
   ],
   "source": [
    "wd = 3\n",
    "\n",
    "data_skip = 1#int((len(test_t2s)-1)/3)\n",
    "print(data_skip)\n",
    "\n",
    "good_indices = [0]\n",
    "\n",
    "good_indices = [0]\n",
    "\n",
    "for kk in range(1,len(test_t2s)):\n",
    "    this_index = good_indices[-1] + data_skip\n",
    "    \n",
    "    if this_index>len(test_t2s):\n",
    "        break\n",
    "    else:\n",
    "        good_indices.append(this_index)\n",
    "    \n",
    "print(good_indices)\n",
    "\n",
    "#l = int((len(test_t2s)-1)*wd)\n",
    "\n",
    "l = int(len(good_indices)*wd)\n",
    "\n",
    "fig = plt.figure(figsize=(l,wd))\n",
    "gs = fig.add_gridspec(ncols=len(good_indices)-1, nrows=1, wspace=0)\n",
    "\n",
    "axs = gs.subplots(sharex=True,sharey=True)\n",
    "\n",
    "all_aucs = []\n",
    "\n",
    "test_t2s = test_t2s[::-1]\n",
    "\n",
    "#for k in range(0,len(test_t2s)-1):\n",
    "for ik in range(0,len(good_indices)-1):\n",
    "    k = good_indices[ik]\n",
    "    #print(test_t2s[k],test_t2s[k+1])\n",
    "    \n",
    "    #dx = copy.deepcopy(cdfs[test_t2s[k]][::-1])\n",
    "    #dy = copy.deepcopy(cdfs[test_t2s[k+1]][::-1])\n",
    "    \n",
    "    all_aucs.append(auc(cdfs[test_t2s[k+1]][::-1],cdfs[test_t2s[k]][::-1]))\n",
    "    \n",
    "    #all_aucs.append(auc(dx_2,dy_2))\n",
    "    \n",
    "    label_text = str(round(all_aucs[-1],3))\n",
    "    \n",
    "    #axs[ik].plot(cdfs[test_t2s[k+1]],cdfs[test_t2s[k]],lw=2,color='black',label=label_text)\n",
    "    #axs[ik].fill_between(cdfs[test_t2s[k+1]],0,cdfs[test_t2s[k]],color='black',alpha=0.3)#,label=str(test_t2s[k])+' h',alpha=_alpha)\n",
    "    #axs[ik].set_xticks((0,1))\n",
    "    #axs[ik].set_yticks((0,1))\n",
    "    #axs[ik].tick_params(axis='both',labelsize=16)\n",
    "    #axs[ik].legend(frameon=False,prop={'size': 18,'family':'Arial'},markerscale=1.0,handlelength=0.0,loc='lower right')\n",
    "    #axs[ik].set_title(str(test_t2s[k+1])+'h - '+str(test_t2s[k])+'h',fontsize=16)\n",
    "    \n",
    "    #if k%2==0:\n",
    "    #    axs[k].xaxis.tick_top()\n",
    "    \n",
    "        \n",
    "        \n",
    "    #axs[k].set_title('AUC = '+str(round(all_aucs[-1],3)),fontsize=16)\n",
    "    \n",
    "        \n",
    "#print(max(all_aucs))\n",
    "#plt.tight_layout()\n",
    "#plt.savefig('ALA-AUC-24h.png',dpi=300)  \n",
    "\n",
    "try:\n",
    "    wf = open('min_AUC_summary.csv','a')\n",
    "    wf.close()\n",
    "except FileNotFoundError:\n",
    "    wf = open('min_AUC_summary.csv','w')\n",
    "    wf.close()\n",
    "    \n",
    "print(str(abs(round(test_t2s[0]-test_t2s[1],0)))+','+str(round(max(all_aucs),2)),file=open('min_AUC_summary.csv','a'))"
   ]
  },
  {
   "cell_type": "code",
   "execution_count": null,
   "metadata": {},
   "outputs": [],
   "source": [
    "popt, pcov = optim.curve_fit(Annexinfunc,all_data[tag],all_data['T2'])\n",
    "print(popt)\n",
    "perr = np.sqrt(np.diag(pcov))\n",
    "print(perr)"
   ]
  },
  {
   "cell_type": "code",
   "execution_count": null,
   "metadata": {},
   "outputs": [],
   "source": [
    "aa1 = np.linspace(15,70,100)\n",
    "T2aa1 = Annexinfunc(aa,popt[0],popt[1])\n",
    "\n",
    "errs = all_data['T2'][:6] - Annexinfunc(all_data[tag][:6],popt[0],popt[1])\n",
    "\n",
    "chi = math.sqrt((np.linalg.norm(errs,ord=2)**2)/errs.shape[0])\n",
    "\n",
    "print(chi)"
   ]
  },
  {
   "cell_type": "code",
   "execution_count": null,
   "metadata": {},
   "outputs": [],
   "source": [
    "popt, pcov = optim.curve_fit(Annexinfunc,all_data[tag][6:],all_data['T2'][6:])\n",
    "print(popt)\n",
    "perr = np.sqrt(np.diag(pcov))\n",
    "print(perr)"
   ]
  },
  {
   "cell_type": "code",
   "execution_count": null,
   "metadata": {},
   "outputs": [],
   "source": [
    "aa2 = np.linspace(15,70,100)\n",
    "T2aa2 = Annexinfunc(aa,popt[0],popt[1])\n",
    "\n",
    "errs = all_data['T2'][:6] - Annexinfunc(all_data[tag][6:],popt[0],popt[1])\n",
    "\n",
    "chi = math.sqrt((np.linalg.norm(errs,ord=2)**2)/errs.shape[0])\n",
    "\n",
    "print(chi)"
   ]
  },
  {
   "cell_type": "code",
   "execution_count": null,
   "metadata": {},
   "outputs": [],
   "source": [
    "popt, pcov = optim.curve_fit(Annexinfunc,all_data[tag],all_data['T2'])\n",
    "print(popt)\n",
    "perr = np.sqrt(np.diag(pcov))\n",
    "print(perr)\n",
    "\n",
    "aa = np.linspace(10,80,100)\n",
    "T2aa = Annexinfunc(aa,popt[0],popt[1])\n",
    "\n",
    "errs = all_data['T2'][:6] - Annexinfunc(all_data[tag][6:],popt[0],popt[1])\n",
    "\n",
    "chi = math.sqrt((np.linalg.norm(errs,ord=2)**2)/errs.shape[0])\n",
    "\n",
    "print(chi)"
   ]
  },
  {
   "cell_type": "code",
   "execution_count": null,
   "metadata": {},
   "outputs": [],
   "source": [
    "err_data = pd.read_csv('Annexin24h_error.csv',header=None).to_numpy()\n",
    "#err_data = pd.read_csv('Annexin0h_error.csv',header=None).to_numpy()\n",
    "\n",
    "T2s = err_data[:,0]\n",
    "err_cI = np.zeros(shape=(err_data.shape[0],2))\n",
    "\n",
    "for i in range(0,err_data.shape[0]):\n",
    "    err_cI[i,0] = np.mean(err_data[i,1:])\n",
    "    \n",
    "    CI = st.t.interval(alpha=0.95, df=len(err_data[i,1:])-1, loc=err_cI[i,0], scale=st.sem(err_data[i,1:]))\n",
    "    \n",
    "    err_cI[i,1] = 0.5*(CI[1] - CI[0])"
   ]
  },
  {
   "cell_type": "code",
   "execution_count": null,
   "metadata": {},
   "outputs": [],
   "source": [
    "fig, axs = plt.subplots(figsize=(7,6))\n",
    "\n",
    "off = 36\n",
    "\n",
    "rcParams['font.family'] = 'sans-serif'\n",
    "rcParams['font.sans-serif'] = ['Times New Roman']\n",
    "\n",
    "plt.errorbar(err_cI[off:off+6,0],T2s[:6],yerr=None,xerr=err_cI[off:off+6,1],fmt='.',lw=2,alpha=0.5,mew=2,ms=1,color='#000000',capsize=5,capthick=1)\n",
    "plt.errorbar(err_cI[off+6:off+12,0],T2s[6:12],yerr=None,xerr=err_cI[off+6:off+12,1],fmt='.',lw=2,alpha=0.5,mew=2,ms=1,color='#000000',capsize=5,capthick=1)\n",
    "\n",
    "plt.scatter(err_cI[off:off+6,0],T2s[:6],marker='o',linewidth=0,s=100,c=colors1)\n",
    "plt.scatter(err_cI[off+6:off+12,0],T2s[6:12],marker='^',linewidth=0,s=100,c=colors1)\n",
    "\n",
    "plt.scatter(err_cI[off+5,0],T2s[5],marker='o',s=100,c='black',label='Study 1')\n",
    "plt.scatter(err_cI[off+11,0],T2s[11],marker='^',s=100,c='black',label='Study 2')\n",
    "\n",
    "plt.xticks(size=20)\n",
    "plt.yticks(size=20)  \n",
    "#plt.xlabel('Healthy cells (%)',size=22)\n",
    "#plt.xlabel('Early apoptotic cells (%)',size=22)\n",
    "#plt.xlabel('Late apoptotic cells (%)',size=22)\n",
    "plt.xlabel('Necrotic cells (%)',size=22)\n",
    "\n",
    "plt.ylabel(r'T2 (h)',size=22,rotation=90)\n",
    "plt.minorticks_on()\n",
    "#plt.xlim(90,100)\n",
    "plt.ylim(50,300)\n",
    "axs.tick_params(which='major', length=8)\n",
    "axs.tick_params(which='minor', length=4)\n",
    "plt.legend(frameon=True,prop={'size': 16},markerscale=1.0,handlelength=1.0,loc='upper right')\n",
    "plt.tight_layout()\n",
    "\n",
    "#plt.savefig('healthy-24h_err.png',dpi=300)\n",
    "#plt.savefig('early_apoptotic-24h_err.png',dpi=300)\n",
    "#plt.savefig('late_apoptotic-24h_err.png',dpi=300)\n",
    "plt.savefig('necrotic-24h_err.png',dpi=300)"
   ]
  },
  {
   "cell_type": "code",
   "execution_count": null,
   "metadata": {},
   "outputs": [],
   "source": [
    "rgba_colors = 0.5*np.ones((6,4))\n",
    "alphas = np.linspace(0.1, 1, 6)\n",
    "rgba_colors[:,3] = alphas\n",
    "rgba_colors[:,3] = alphas\n",
    "print(v0.shape)\n",
    "\n",
    "print(v0[10:,3],v0[10:,0])"
   ]
  },
  {
   "cell_type": "code",
   "execution_count": null,
   "metadata": {},
   "outputs": [],
   "source": [
    "weight1 = pd.Series([0.2, 0.3, 0.5, 0.7])\n",
    "colors1 = weight1.apply(lambda x: (0,0,0,x)).tolist()\n",
    "\n",
    "weight2 = pd.Series([0.2, 0.5, 0.7])\n",
    "colors2 = weight2.apply(lambda x: (0,0,0,x)).tolist()\n",
    "\n",
    "weight3 = pd.Series([0.2, 0.3, 0.4, 0.5, 0.6, 0.7])\n",
    "colors3 = weight3.apply(lambda x: (0,0,0,x)).tolist()"
   ]
  },
  {
   "cell_type": "code",
   "execution_count": null,
   "metadata": {},
   "outputs": [],
   "source": [
    "fig, axs = plt.subplots(figsize=(7,6))\n",
    "\n",
    "rcParams['font.family'] = 'sans-serif'\n",
    "rcParams['font.sans-serif'] = ['Times New Roman']\n",
    "\n",
    "#plt.errorbar(v0[:,0],v0[:,3],v0[:,4],v0[:,1],fmt='o',lw=2,alpha=0.5,mew=2,ms=10,color='#000000',capsize=5,capthick=1,label='0 h')\n",
    "plt.scatter(v0[:4,3],v0[:4,0],marker='o',s=80,c=colors1,label='Study 1')\n",
    "plt.scatter(v0[4:7,3],v0[4:7,0],marker='^',s=80,c=colors2,label='Study 6')\n",
    "plt.scatter(v0[7:,3],v0[7:,0],marker='s',s=80,c=colors3,label='Study 5')\n",
    "#plt.plot(v0[:,3],v0[:,0],marker='o',linewidth=0,ms=8,c=rgba_colors,mew=0)\n",
    "#plt.plot(aa,T2aa,linewidth=2,color='#000000',alpha=0.5,label=r'$(518.3 \\pm 76.1) - (4.6 \\pm 0.9)[A_H]$')\n",
    "\n",
    "#plt.errorbar(v24[:,0],v24[:,3],v24[:,4],v24[:,1],fmt='^',lw=2,alpha=0.5,mew=2,ms=10,color='r',capsize=5,capthick=1,label='24 h')\n",
    "#plt.plot(v24[:,0],v24[:,3],marker='o',linewidth=0,ms=8,color='c',alpha=0.7,label='24 h',mew=0)\n",
    "#plt.plot(tb24,ts24,linewidth=1.5,color='c',alpha=0.9,label=r'460$(1-e^{-0.09[\\mathrm{TBlue}]})$')\n",
    "#plt.fill_between(tb24,t_ll24,t_ul24,color='c',alpha=0.2)\n",
    "\n",
    "#plt.errorbar(v48[:,0],v48[:,3],v48[:,4],v48[:,1],fmt='d',lw=2,alpha=0.7,mew=2,ms=7,color='m',capsize=5,capthick=1,label='48 h')\n",
    "#plt.plot(v48[:,0],v48[:,3],marker='o',linewidth=0,ms=8,color='m',alpha=0.7,label='48 h',mew=0)\n",
    "\n",
    "#plt.errorbar(v72[:,0],v72[:,3],v72[:,4],v72[:,1],fmt='^',lw=3,alpha=0.7,mew=2,ms=7,color='y',capsize=5,capthick=1,label='72 h')\n",
    "#plt.plot(v72[:,0],v72[:,3],marker='o',linewidth=0,ms=8,color='y',alpha=0.7,label='72 h',mew=0)\n",
    "\n",
    "plt.xticks(size=20)\n",
    "plt.yticks(size=20)  \n",
    "plt.xlabel(r'AO/DAPI (AHT)',size=22)\n",
    "plt.ylabel(r'T2 (h)',size=22,rotation=90)\n",
    "plt.minorticks_on()\n",
    "plt.xlim(90,100)\n",
    "plt.ylim(50,250)\n",
    "axs.tick_params(which='major', length=8)\n",
    "axs.tick_params(which='minor', length=4)\n",
    "plt.legend(frameon=False,prop={'size': 16},markerscale=1.0,handlelength=1.0,loc='lower left')\n",
    "plt.tight_layout()\n",
    "\n",
    "plt.savefig('CombinedAnnexinHealthy-165.png',dpi=600)"
   ]
  },
  {
   "cell_type": "code",
   "execution_count": null,
   "metadata": {},
   "outputs": [],
   "source": [
    "popt, pcov = optim.curve_fit(Annexinfunc,v0[:,4],v0[:,0])\n",
    "print(popt)\n",
    "perr = np.sqrt(np.diag(pcov))\n",
    "print(perr)\n",
    "\n",
    "ae = np.linspace(0,20,100)\n",
    "T2ae = Annexinfunc(ae,popt[0],popt[1])"
   ]
  },
  {
   "cell_type": "code",
   "execution_count": null,
   "metadata": {},
   "outputs": [],
   "source": [
    "fig, axs = plt.subplots(figsize=(7,6))\n",
    "\n",
    "rcParams['font.family'] = 'sans-serif'\n",
    "rcParams['font.sans-serif'] = ['Times New Roman']\n",
    "\n",
    "#plt.errorbar(v0[:,0],v0[:,3],v0[:,4],v0[:,1],fmt='o',lw=2,alpha=0.5,mew=2,ms=10,color='#000000',capsize=5,capthick=1,label='0 h')\n",
    "plt.plot(v0[:6,4],v0[:6,0],marker='o',linewidth=0,ms=8,color='r',alpha=0.7,label=r'Early apoptotic $(A_E)$',mew=0)\n",
    "plt.plot(v0[6:10,4],v0[6:10,0],marker='^',linewidth=0,ms=8,color='r',alpha=0.7,mew=0)\n",
    "plt.plot(v0[10:,4],v0[10:,0],marker='s',linewidth=0,ms=8,color='r',alpha=0.7,mew=0)\n",
    "\n",
    "plt.plot(v0[:6,5],v0[:6,0],marker='o',linewidth=0,ms=8,color='g',alpha=0.7,label='Late apoptotic',mew=0)\n",
    "plt.plot(v0[6:10,5],v0[6:10,0],marker='^',linewidth=0,ms=8,color='g',alpha=0.7,mew=0)\n",
    "plt.plot(v0[10:,5],v0[10:,0],marker='s',linewidth=0,ms=8,color='g',alpha=0.7,mew=0)\n",
    "\n",
    "plt.plot(v0[:6,6],v0[:6,0],marker='o',linewidth=0,ms=8,color='b',alpha=0.7,label='Necrotic',mew=0)\n",
    "plt.plot(v0[6:10,6],v0[6:10,0],marker='^',linewidth=0,ms=8,color='b',alpha=0.7,mew=0)\n",
    "plt.plot(v0[10:,6],v0[10:,0],marker='s',linewidth=0,ms=8,color='b',alpha=0.7,mew=0)\n",
    "\n",
    "plt.plot(ae,T2ae,linewidth=2,color='r',alpha=0.5,label=r'$(76 \\pm 14.1) + (9.7 \\pm 1.9)[A_E]$')\n",
    "\n",
    "#plt.errorbar(v24[:,0],v24[:,3],v24[:,4],v24[:,1],fmt='^',lw=2,alpha=0.5,mew=2,ms=10,color='r',capsize=5,capthick=1,label='24 h')\n",
    "#plt.plot(v24[:,0],v24[:,3],marker='o',linewidth=0,ms=8,color='c',alpha=0.7,label='24 h',mew=0)\n",
    "#plt.plot(tb24,ts24,linewidth=1.5,color='c',alpha=0.9,label=r'460$(1-e^{-0.09[\\mathrm{TBlue}]})$')\n",
    "#plt.fill_between(tb24,t_ll24,t_ul24,color='c',alpha=0.2)\n",
    "\n",
    "#plt.errorbar(v48[:,0],v48[:,3],v48[:,4],v48[:,1],fmt='d',lw=2,alpha=0.7,mew=2,ms=7,color='m',capsize=5,capthick=1,label='48 h')\n",
    "#plt.plot(v48[:,0],v48[:,3],marker='o',linewidth=0,ms=8,color='m',alpha=0.7,label='48 h',mew=0)\n",
    "\n",
    "#plt.errorbar(v72[:,0],v72[:,3],v72[:,4],v72[:,1],fmt='^',lw=3,alpha=0.7,mew=2,ms=7,color='y',capsize=5,capthick=1,label='72 h')\n",
    "#plt.plot(v72[:,0],v72[:,3],marker='o',linewidth=0,ms=8,color='y',alpha=0.7,label='72 h',mew=0)\n",
    "\n",
    "plt.xticks(size=20)\n",
    "plt.yticks(size=20)  \n",
    "plt.xlabel(r'Annexin',size=22)\n",
    "plt.ylabel(r'T2 (h)',size=22,rotation=90)\n",
    "plt.minorticks_on()\n",
    "#plt.xlim(70,100)\n",
    "plt.ylim(50,300)\n",
    "axs.tick_params(which='major', length=8)\n",
    "axs.tick_params(which='minor', length=4)\n",
    "plt.legend(frameon=False,prop={'size': 14},markerscale=1.0,handlelength=1.0,loc='upper left')\n",
    "plt.tight_layout()\n",
    "\n",
    "plt.savefig('CombinedAnnexin-all-30.png',dpi=600)"
   ]
  },
  {
   "cell_type": "code",
   "execution_count": null,
   "metadata": {},
   "outputs": [],
   "source": [
    "xs = v_data['AODAPI'].to_numpy()\n",
    "max_atp = np.max(xs)\n",
    "print(xs)"
   ]
  },
  {
   "cell_type": "code",
   "execution_count": null,
   "metadata": {},
   "outputs": [],
   "source": [
    "x_data = np.zeros(shape=(n_data*xs.shape[0],))\n",
    "y_data = np.zeros(shape=(n_data*xs.shape[0],))\n",
    "\n",
    "n = 0\n",
    "\n",
    "for k in list(v_data):\n",
    "    if 'T2' in k:\n",
    "        x_data[n:n+xs.shape[0]] = xs #- ATP_offset\n",
    "        y_data[n:n+xs.shape[0]] = v_data[k].to_numpy()\n",
    "        \n",
    "        n += xs.shape[0]\n",
    "        \n",
    "print(x_data,y_data)"
   ]
  },
  {
   "cell_type": "code",
   "execution_count": null,
   "metadata": {},
   "outputs": [],
   "source": []
  }
 ],
 "metadata": {
  "kernelspec": {
   "display_name": "Python 3",
   "language": "python",
   "name": "python3"
  },
  "language_info": {
   "codemirror_mode": {
    "name": "ipython",
    "version": 3
   },
   "file_extension": ".py",
   "mimetype": "text/x-python",
   "name": "python",
   "nbconvert_exporter": "python",
   "pygments_lexer": "ipython3",
   "version": "3.7.3"
  }
 },
 "nbformat": 4,
 "nbformat_minor": 4
}
