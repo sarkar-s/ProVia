{
 "cells": [
  {
   "cell_type": "code",
   "execution_count": 2,
   "metadata": {},
   "outputs": [],
   "source": [
    "import numpy as np\n",
    "import scipy.optimize as optim\n",
    "import math\n",
    "import os,sys\n",
    "import pandas as pd\n",
    "import copy\n",
    "import matplotlib.pyplot as plt\n",
    "from matplotlib import rcParams"
   ]
  },
  {
   "cell_type": "code",
   "execution_count": 3,
   "metadata": {},
   "outputs": [],
   "source": [
    "def Annexinfunc(x,a,b):\n",
    "    return (a + b*x)\n",
    "    \n",
    "    #return (a + b*(x-np.log(100)))"
   ]
  },
  {
   "cell_type": "code",
   "execution_count": 4,
   "metadata": {},
   "outputs": [],
   "source": [
    "data_folder = '/Users/sns9/Research/GrowthCurves/Annexin/'\n",
    "os.chdir(data_folder)"
   ]
  },
  {
   "cell_type": "code",
   "execution_count": 5,
   "metadata": {},
   "outputs": [
    {
     "name": "stdout",
     "output_type": "stream",
     "text": [
      "(13, 4)\n"
     ]
    }
   ],
   "source": [
    "#v_data = pd.read_csv('Viability_T1-ATP-fit.csv',)\n",
    "v0 = pd.read_csv('CombinedAnnexins165.csv').to_numpy()\n",
    "#v24 = pd.read_csv('Tblue-T2-24.csv').to_numpy()\n",
    "#v48 = pd.read_csv('Tblue-T2-48.csv').to_numpy()\n",
    "#v72 = pd.read_csv('Tblue-T2-72.csv').to_numpy()\n",
    "\n",
    "print(v0.shape)"
   ]
  },
  {
   "cell_type": "code",
   "execution_count": 16,
   "metadata": {},
   "outputs": [
    {
     "name": "stdout",
     "output_type": "stream",
     "text": [
      "[394.01585467  -2.60432556]\n",
      "[517.80883118   5.29633733]\n"
     ]
    }
   ],
   "source": [
    "#popt, pcov = optim.curve_fit(ATPfunc,np.log(v24[:,0]),np.log(v24[:,3]))\n",
    "popt, pcov = optim.curve_fit(Annexinfunc,v0[:,3],v0[:,0])\n",
    "print(popt)\n",
    "perr = np.sqrt(np.diag(pcov))\n",
    "print(perr)"
   ]
  },
  {
   "cell_type": "code",
   "execution_count": 6,
   "metadata": {},
   "outputs": [],
   "source": [
    "aa = np.linspace(65,95,100)\n",
    "T2aa = Annexinfunc(aa,popt[0],popt[1])"
   ]
  },
  {
   "cell_type": "code",
   "execution_count": 7,
   "metadata": {},
   "outputs": [
    {
     "ename": "NameError",
     "evalue": "name 'opt_ul' is not defined",
     "output_type": "error",
     "traceback": [
      "\u001b[0;31m---------------------------------------------------------------------------\u001b[0m",
      "\u001b[0;31mNameError\u001b[0m                                 Traceback (most recent call last)",
      "\u001b[0;32m<ipython-input-7-06b83eeef695>\u001b[0m in \u001b[0;36m<module>\u001b[0;34m\u001b[0m\n\u001b[1;32m      2\u001b[0m \u001b[0mpopt_ul\u001b[0m\u001b[0;34m[\u001b[0m\u001b[0;36m0\u001b[0m\u001b[0;34m]\u001b[0m \u001b[0;34m+=\u001b[0m \u001b[0;36m2\u001b[0m\u001b[0;34m*\u001b[0m\u001b[0mperr\u001b[0m\u001b[0;34m[\u001b[0m\u001b[0;36m0\u001b[0m\u001b[0;34m]\u001b[0m\u001b[0;34m\u001b[0m\u001b[0;34m\u001b[0m\u001b[0m\n\u001b[1;32m      3\u001b[0m \u001b[0mpopt_ul\u001b[0m\u001b[0;34m[\u001b[0m\u001b[0;36m1\u001b[0m\u001b[0;34m]\u001b[0m \u001b[0;34m-=\u001b[0m \u001b[0;36m2\u001b[0m\u001b[0;34m*\u001b[0m\u001b[0mperr\u001b[0m\u001b[0;34m[\u001b[0m\u001b[0;36m1\u001b[0m\u001b[0;34m]\u001b[0m\u001b[0;34m\u001b[0m\u001b[0;34m\u001b[0m\u001b[0m\n\u001b[0;32m----> 4\u001b[0;31m \u001b[0mopt_ul\u001b[0m\u001b[0;34m[\u001b[0m\u001b[0;36m2\u001b[0m\u001b[0;34m]\u001b[0m \u001b[0;34m+=\u001b[0m \u001b[0mperr\u001b[0m\u001b[0;34m[\u001b[0m\u001b[0;36m2\u001b[0m\u001b[0;34m]\u001b[0m\u001b[0;34m\u001b[0m\u001b[0;34m\u001b[0m\u001b[0m\n\u001b[0m\u001b[1;32m      5\u001b[0m \u001b[0;34m\u001b[0m\u001b[0m\n\u001b[1;32m      6\u001b[0m \u001b[0mpopt_ll\u001b[0m \u001b[0;34m=\u001b[0m \u001b[0mcopy\u001b[0m\u001b[0;34m.\u001b[0m\u001b[0mdeepcopy\u001b[0m\u001b[0;34m(\u001b[0m\u001b[0mpopt\u001b[0m\u001b[0;34m)\u001b[0m\u001b[0;34m\u001b[0m\u001b[0;34m\u001b[0m\u001b[0m\n",
      "\u001b[0;31mNameError\u001b[0m: name 'opt_ul' is not defined"
     ]
    }
   ],
   "source": [
    "popt_ul = copy.deepcopy(popt)\n",
    "popt_ul[0] += 2*perr[0]\n",
    "popt_ul[1] -= 2*perr[1]\n",
    "opt_ul[2] += perr[2]\n",
    "\n",
    "popt_ll = copy.deepcopy(popt)\n",
    "popt_ll[0] -= 2*perr[0]\n",
    "popt_ll[1] += 2*perr[1]\n",
    "opt_ll[2] -= perr[2]\n",
    "\n",
    "tb24 = np.linspace(70,100,501)\n",
    "#tb24 = math.exp(1)**l_tb24\n",
    "ts24 = TBfunc(tb24,popt[0])\n",
    "\n",
    "#print(ts7)\n",
    "\n",
    "t_ul24 = TBfunc(tb24,popt_ul[0])\n",
    "t_ll24 = TBfunc(tb24,popt_ll[0])\n",
    "\n",
    "#print(ts24)"
   ]
  },
  {
   "cell_type": "code",
   "execution_count": 21,
   "metadata": {},
   "outputs": [
    {
     "name": "stdout",
     "output_type": "stream",
     "text": [
      "(14, 7)\n",
      "[91.5 88.5 81.  69. ] [ 83.62556256  98.6919892  159.6370837  204.7963996 ]\n"
     ]
    }
   ],
   "source": [
    "rgba_colors = 0.5*np.ones((6,4))\n",
    "alphas = np.linspace(0.1, 1, 6)\n",
    "rgba_colors[:,3] = alphas\n",
    "rgba_colors[:,3] = alphas\n",
    "print(v0.shape)\n",
    "\n",
    "print(v0[10:,3],v0[10:,0])"
   ]
  },
  {
   "cell_type": "code",
   "execution_count": 6,
   "metadata": {},
   "outputs": [],
   "source": [
    "weight1 = pd.Series([0.2, 0.3, 0.5, 0.7])\n",
    "colors1 = weight1.apply(lambda x: (0,0,0,x)).tolist()\n",
    "\n",
    "weight2 = pd.Series([0.2, 0.5, 0.7])\n",
    "colors2 = weight2.apply(lambda x: (0,0,0,x)).tolist()\n",
    "\n",
    "weight3 = pd.Series([0.2, 0.3, 0.4, 0.5, 0.6, 0.7])\n",
    "colors3 = weight3.apply(lambda x: (0,0,0,x)).tolist()"
   ]
  },
  {
   "cell_type": "code",
   "execution_count": 7,
   "metadata": {},
   "outputs": [
    {
     "data": {
      "image/png": "[encoded data removed]",
      "text/plain": [
       "<Figure size 504x432 with 1 Axes>"
      ]
     },
     "metadata": {
      "needs_background": "light"
     },
     "output_type": "display_data"
    }
   ],
   "source": [
    "fig, axs = plt.subplots(figsize=(7,6))\n",
    "\n",
    "rcParams['font.family'] = 'sans-serif'\n",
    "rcParams['font.sans-serif'] = ['Times New Roman']\n",
    "\n",
    "#plt.errorbar(v0[:,0],v0[:,3],v0[:,4],v0[:,1],fmt='o',lw=2,alpha=0.5,mew=2,ms=10,color='#000000',capsize=5,capthick=1,label='0 h')\n",
    "plt.scatter(v0[:4,3],v0[:4,0],marker='o',s=80,c=colors1,label='Study 1')\n",
    "plt.scatter(v0[4:7,3],v0[4:7,0],marker='^',s=80,c=colors2,label='Study 6')\n",
    "plt.scatter(v0[7:,3],v0[7:,0],marker='s',s=80,c=colors3,label='Study 5')\n",
    "#plt.plot(v0[:,3],v0[:,0],marker='o',linewidth=0,ms=8,c=rgba_colors,mew=0)\n",
    "#plt.plot(aa,T2aa,linewidth=2,color='#000000',alpha=0.5,label=r'$(518.3 \\pm 76.1) - (4.6 \\pm 0.9)[A_H]$')\n",
    "\n",
    "#plt.errorbar(v24[:,0],v24[:,3],v24[:,4],v24[:,1],fmt='^',lw=2,alpha=0.5,mew=2,ms=10,color='r',capsize=5,capthick=1,label='24 h')\n",
    "#plt.plot(v24[:,0],v24[:,3],marker='o',linewidth=0,ms=8,color='c',alpha=0.7,label='24 h',mew=0)\n",
    "#plt.plot(tb24,ts24,linewidth=1.5,color='c',alpha=0.9,label=r'460$(1-e^{-0.09[\\mathrm{TBlue}]})$')\n",
    "#plt.fill_between(tb24,t_ll24,t_ul24,color='c',alpha=0.2)\n",
    "\n",
    "#plt.errorbar(v48[:,0],v48[:,3],v48[:,4],v48[:,1],fmt='d',lw=2,alpha=0.7,mew=2,ms=7,color='m',capsize=5,capthick=1,label='48 h')\n",
    "#plt.plot(v48[:,0],v48[:,3],marker='o',linewidth=0,ms=8,color='m',alpha=0.7,label='48 h',mew=0)\n",
    "\n",
    "#plt.errorbar(v72[:,0],v72[:,3],v72[:,4],v72[:,1],fmt='^',lw=3,alpha=0.7,mew=2,ms=7,color='y',capsize=5,capthick=1,label='72 h')\n",
    "#plt.plot(v72[:,0],v72[:,3],marker='o',linewidth=0,ms=8,color='y',alpha=0.7,label='72 h',mew=0)\n",
    "\n",
    "plt.xticks(size=20)\n",
    "plt.yticks(size=20)  \n",
    "plt.xlabel(r'AO/DAPI (AHT)',size=22)\n",
    "plt.ylabel(r'T2 (h)',size=22,rotation=90)\n",
    "plt.minorticks_on()\n",
    "plt.xlim(90,100)\n",
    "plt.ylim(50,250)\n",
    "axs.tick_params(which='major', length=8)\n",
    "axs.tick_params(which='minor', length=4)\n",
    "plt.legend(frameon=False,prop={'size': 16},markerscale=1.0,handlelength=1.0,loc='lower left')\n",
    "plt.tight_layout()\n",
    "\n",
    "plt.savefig('CombinedAnnexinHealthy-165.png',dpi=600)"
   ]
  },
  {
   "cell_type": "code",
   "execution_count": 7,
   "metadata": {},
   "outputs": [
    {
     "ename": "IndexError",
     "evalue": "index 4 is out of bounds for axis 1 with size 4",
     "output_type": "error",
     "traceback": [
      "\u001b[0;31m---------------------------------------------------------------------------\u001b[0m",
      "\u001b[0;31mIndexError\u001b[0m                                Traceback (most recent call last)",
      "\u001b[0;32m<ipython-input-7-dbd4b0d9bec2>\u001b[0m in \u001b[0;36m<module>\u001b[0;34m\u001b[0m\n\u001b[0;32m----> 1\u001b[0;31m \u001b[0mpopt\u001b[0m\u001b[0;34m,\u001b[0m \u001b[0mpcov\u001b[0m \u001b[0;34m=\u001b[0m \u001b[0moptim\u001b[0m\u001b[0;34m.\u001b[0m\u001b[0mcurve_fit\u001b[0m\u001b[0;34m(\u001b[0m\u001b[0mAnnexinfunc\u001b[0m\u001b[0;34m,\u001b[0m\u001b[0mv0\u001b[0m\u001b[0;34m[\u001b[0m\u001b[0;34m:\u001b[0m\u001b[0;34m,\u001b[0m\u001b[0;36m4\u001b[0m\u001b[0;34m]\u001b[0m\u001b[0;34m,\u001b[0m\u001b[0mv0\u001b[0m\u001b[0;34m[\u001b[0m\u001b[0;34m:\u001b[0m\u001b[0;34m,\u001b[0m\u001b[0;36m0\u001b[0m\u001b[0;34m]\u001b[0m\u001b[0;34m)\u001b[0m\u001b[0;34m\u001b[0m\u001b[0;34m\u001b[0m\u001b[0m\n\u001b[0m\u001b[1;32m      2\u001b[0m \u001b[0mprint\u001b[0m\u001b[0;34m(\u001b[0m\u001b[0mpopt\u001b[0m\u001b[0;34m)\u001b[0m\u001b[0;34m\u001b[0m\u001b[0;34m\u001b[0m\u001b[0m\n\u001b[1;32m      3\u001b[0m \u001b[0mperr\u001b[0m \u001b[0;34m=\u001b[0m \u001b[0mnp\u001b[0m\u001b[0;34m.\u001b[0m\u001b[0msqrt\u001b[0m\u001b[0;34m(\u001b[0m\u001b[0mnp\u001b[0m\u001b[0;34m.\u001b[0m\u001b[0mdiag\u001b[0m\u001b[0;34m(\u001b[0m\u001b[0mpcov\u001b[0m\u001b[0;34m)\u001b[0m\u001b[0;34m)\u001b[0m\u001b[0;34m\u001b[0m\u001b[0;34m\u001b[0m\u001b[0m\n\u001b[1;32m      4\u001b[0m \u001b[0mprint\u001b[0m\u001b[0;34m(\u001b[0m\u001b[0mperr\u001b[0m\u001b[0;34m)\u001b[0m\u001b[0;34m\u001b[0m\u001b[0;34m\u001b[0m\u001b[0m\n\u001b[1;32m      5\u001b[0m \u001b[0;34m\u001b[0m\u001b[0m\n",
      "\u001b[0;31mIndexError\u001b[0m: index 4 is out of bounds for axis 1 with size 4"
     ]
    }
   ],
   "source": [
    "popt, pcov = optim.curve_fit(Annexinfunc,v0[:,4],v0[:,0])\n",
    "print(popt)\n",
    "perr = np.sqrt(np.diag(pcov))\n",
    "print(perr)\n",
    "\n",
    "ae = np.linspace(0,20,100)\n",
    "T2ae = Annexinfunc(ae,popt[0],popt[1])"
   ]
  },
  {
   "cell_type": "code",
   "execution_count": 35,
   "metadata": {},
   "outputs": [
    {
     "data": {
      "image/png": "[encoded data removed]",
      "text/plain": [
       "<Figure size 504x432 with 1 Axes>"
      ]
     },
     "metadata": {
      "needs_background": "light"
     },
     "output_type": "display_data"
    }
   ],
   "source": [
    "fig, axs = plt.subplots(figsize=(7,6))\n",
    "\n",
    "rcParams['font.family'] = 'sans-serif'\n",
    "rcParams['font.sans-serif'] = ['Times New Roman']\n",
    "\n",
    "#plt.errorbar(v0[:,0],v0[:,3],v0[:,4],v0[:,1],fmt='o',lw=2,alpha=0.5,mew=2,ms=10,color='#000000',capsize=5,capthick=1,label='0 h')\n",
    "plt.plot(v0[:6,4],v0[:6,0],marker='o',linewidth=0,ms=8,color='r',alpha=0.7,label=r'Early apoptotic $(A_E)$',mew=0)\n",
    "plt.plot(v0[6:10,4],v0[6:10,0],marker='^',linewidth=0,ms=8,color='r',alpha=0.7,mew=0)\n",
    "plt.plot(v0[10:,4],v0[10:,0],marker='s',linewidth=0,ms=8,color='r',alpha=0.7,mew=0)\n",
    "\n",
    "plt.plot(v0[:6,5],v0[:6,0],marker='o',linewidth=0,ms=8,color='g',alpha=0.7,label='Late apoptotic',mew=0)\n",
    "plt.plot(v0[6:10,5],v0[6:10,0],marker='^',linewidth=0,ms=8,color='g',alpha=0.7,mew=0)\n",
    "plt.plot(v0[10:,5],v0[10:,0],marker='s',linewidth=0,ms=8,color='g',alpha=0.7,mew=0)\n",
    "\n",
    "plt.plot(v0[:6,6],v0[:6,0],marker='o',linewidth=0,ms=8,color='b',alpha=0.7,label='Necrotic',mew=0)\n",
    "plt.plot(v0[6:10,6],v0[6:10,0],marker='^',linewidth=0,ms=8,color='b',alpha=0.7,mew=0)\n",
    "plt.plot(v0[10:,6],v0[10:,0],marker='s',linewidth=0,ms=8,color='b',alpha=0.7,mew=0)\n",
    "\n",
    "plt.plot(ae,T2ae,linewidth=2,color='r',alpha=0.5,label=r'$(76 \\pm 14.1) + (9.7 \\pm 1.9)[A_E]$')\n",
    "\n",
    "#plt.errorbar(v24[:,0],v24[:,3],v24[:,4],v24[:,1],fmt='^',lw=2,alpha=0.5,mew=2,ms=10,color='r',capsize=5,capthick=1,label='24 h')\n",
    "#plt.plot(v24[:,0],v24[:,3],marker='o',linewidth=0,ms=8,color='c',alpha=0.7,label='24 h',mew=0)\n",
    "#plt.plot(tb24,ts24,linewidth=1.5,color='c',alpha=0.9,label=r'460$(1-e^{-0.09[\\mathrm{TBlue}]})$')\n",
    "#plt.fill_between(tb24,t_ll24,t_ul24,color='c',alpha=0.2)\n",
    "\n",
    "#plt.errorbar(v48[:,0],v48[:,3],v48[:,4],v48[:,1],fmt='d',lw=2,alpha=0.7,mew=2,ms=7,color='m',capsize=5,capthick=1,label='48 h')\n",
    "#plt.plot(v48[:,0],v48[:,3],marker='o',linewidth=0,ms=8,color='m',alpha=0.7,label='48 h',mew=0)\n",
    "\n",
    "#plt.errorbar(v72[:,0],v72[:,3],v72[:,4],v72[:,1],fmt='^',lw=3,alpha=0.7,mew=2,ms=7,color='y',capsize=5,capthick=1,label='72 h')\n",
    "#plt.plot(v72[:,0],v72[:,3],marker='o',linewidth=0,ms=8,color='y',alpha=0.7,label='72 h',mew=0)\n",
    "\n",
    "plt.xticks(size=20)\n",
    "plt.yticks(size=20)  \n",
    "plt.xlabel(r'Annexin',size=22)\n",
    "plt.ylabel(r'T2 (h)',size=22,rotation=90)\n",
    "plt.minorticks_on()\n",
    "#plt.xlim(70,100)\n",
    "plt.ylim(50,300)\n",
    "axs.tick_params(which='major', length=8)\n",
    "axs.tick_params(which='minor', length=4)\n",
    "plt.legend(frameon=False,prop={'size': 14},markerscale=1.0,handlelength=1.0,loc='upper left')\n",
    "plt.tight_layout()\n",
    "\n",
    "plt.savefig('CombinedAnnexin-all-30.png',dpi=600)"
   ]
  },
  {
   "cell_type": "code",
   "execution_count": 13,
   "metadata": {},
   "outputs": [
    {
     "name": "stdout",
     "output_type": "stream",
     "text": [
      "[91.04825156 90.41634933 85.12091253 78.79769836 77.35471704 65.48592972\n",
      " 62.26655348 96.18375836 94.70832686 89.54151808 83.75735913 71.58916709\n",
      " 68.47107004 97.0877899  91.58067542 77.32832916 61.26893939 91.72106306\n",
      " 94.21362799 63.61224296 64.17491872]\n"
     ]
    }
   ],
   "source": [
    "xs = v_data['AODAPI'].to_numpy()\n",
    "max_atp = np.max(xs)\n",
    "print(xs)"
   ]
  },
  {
   "cell_type": "code",
   "execution_count": 14,
   "metadata": {},
   "outputs": [
    {
     "name": "stdout",
     "output_type": "stream",
     "text": [
      "[91.04825156 90.41634933 85.12091253 78.79769836 77.35471704 65.48592972\n",
      " 62.26655348 96.18375836 94.70832686 89.54151808 83.75735913 71.58916709\n",
      " 68.47107004 97.0877899  91.58067542 77.32832916 61.26893939 91.72106306\n",
      " 94.21362799 63.61224296 64.17491872] [ 74.93339334 122.590459   104.1071107  164.4527453  150.7650765\n",
      " 193.5265527  443.6012601  102.3087309   80.82808281  85.02430243\n",
      " 126.7866787  147.2682268  178.0405041   93.01710171 112.9990999\n",
      " 193.4266427  212.209721    71.63636364  72.13591359 159.6570657\n",
      " 190.129613  ]\n"
     ]
    }
   ],
   "source": [
    "x_data = np.zeros(shape=(n_data*xs.shape[0],))\n",
    "y_data = np.zeros(shape=(n_data*xs.shape[0],))\n",
    "\n",
    "n = 0\n",
    "\n",
    "for k in list(v_data):\n",
    "    if 'T2' in k:\n",
    "        x_data[n:n+xs.shape[0]] = xs #- ATP_offset\n",
    "        y_data[n:n+xs.shape[0]] = v_data[k].to_numpy()\n",
    "        \n",
    "        n += xs.shape[0]\n",
    "        \n",
    "print(x_data,y_data)"
   ]
  },
  {
   "cell_type": "code",
   "execution_count": 15,
   "metadata": {},
   "outputs": [
    {
     "name": "stdout",
     "output_type": "stream",
     "text": [
      "[ 4.34060711 -2.38624714]\n",
      "[0.09083485 0.32891399]\n"
     ]
    }
   ],
   "source": [
    "popt, pcov = optim.curve_fit(ATPfunc,np.log(x_data),np.log(y_data))\n",
    "print(popt)\n",
    "perr = np.sqrt(np.diag(pcov))\n",
    "print(perr)\n",
    "\n",
    "popt_ul = copy.deepcopy(popt)\n",
    "popt_ul[0] += 2*perr[0]\n",
    "popt_ul[1] -= 2*perr[1]\n",
    "#opt_ul[2] += perr[2]\n",
    "\n",
    "popt_ll = copy.deepcopy(popt)\n",
    "popt_ll[0] -= 2*perr[0]\n",
    "popt_ll[1] += 2*perr[1]\n",
    "#opt_ll[2] -= perr[2]"
   ]
  },
  {
   "cell_type": "code",
   "execution_count": 16,
   "metadata": {},
   "outputs": [],
   "source": [
    "#atp_array = np.log(np.linspace(0.2,0.8,51))#-ATP_offset)\n",
    "atp_array = np.log(np.linspace(60,100,51))#-ATP_offset)\n",
    "ts = math.exp(1)**ATPfunc(atp_array,popt[0],popt[1])\n",
    "\n",
    "t_ul = math.exp(1)**ATPfunc(atp_array,popt_ul[0],popt_ul[1])\n",
    "t_ll = math.exp(1)**ATPfunc(atp_array,popt_ll[0],popt_ll[1])\n",
    "\n",
    "#atp_array = np.log(np.linspace(90,100,41))\n",
    "\n",
    "total_data = np.zeros(shape=(ts.shape[0],4))\n",
    "total_data[:,0] = math.exp(1)**atp_array #+ ATP_offset\n",
    "total_data[:,1] = ts\n",
    "total_data[:,2] = t_ul - ts\n",
    "total_data[:,3] = ts - t_ll\n",
    "\n",
    "cols = ['x','y','+','-']\n",
    "solved_data = pd.DataFrame(total_data,columns=cols)\n",
    "solved_data.to_csv('pairedAODAPIT2_fit-24-g.csv',index=None)\n",
    "#solved_data.to_csv('paired-AODAPI_fit-24-g.csv',index=None)\n",
    "\n",
    "#np.savetxt('viability_fit-60.csv',total_data,delimiter=',')"
   ]
  },
  {
   "cell_type": "code",
   "execution_count": null,
   "metadata": {},
   "outputs": [],
   "source": []
  }
 ],
 "metadata": {
  "kernelspec": {
   "display_name": "Python 3",
   "language": "python",
   "name": "python3"
  },
  "language_info": {
   "codemirror_mode": {
    "name": "ipython",
    "version": 3
   },
   "file_extension": ".py",
   "mimetype": "text/x-python",
   "name": "python",
   "nbconvert_exporter": "python",
   "pygments_lexer": "ipython3",
   "version": "3.7.3"
  }
 },
 "nbformat": 4,
 "nbformat_minor": 4
}
