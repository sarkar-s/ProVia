{
 "cells": [
  {
   "cell_type": "code",
   "execution_count": 29,
   "metadata": {},
   "outputs": [],
   "source": [
    "import numpy as np\n",
    "import scipy.optimize as optim\n",
    "import math\n",
    "import os,sys\n",
    "import pandas as pd\n",
    "import copy\n",
    "import matplotlib.pyplot as plt\n",
    "from matplotlib import rcParams\n",
    "import scipy.stats as stats"
   ]
  },
  {
   "cell_type": "code",
   "execution_count": 2,
   "metadata": {},
   "outputs": [],
   "source": [
    "data_folder = '/Users/sns9/Research/GrowthCurves/ATP/'\n",
    "os.chdir(data_folder)\n",
    "\n",
    "ATP_offset = 1"
   ]
  },
  {
   "cell_type": "code",
   "execution_count": 3,
   "metadata": {},
   "outputs": [],
   "source": [
    "atp = pd.read_csv('ATP-AHTvalues.csv',header=None).to_numpy()\n",
    "atp_v = np.zeros(shape=(atp.shape[0],3))\n",
    "\n",
    "for k in range(0,atp.shape[0]):\n",
    "    atp_v[k,0] = np.mean(atp[k,:])\n",
    "    \n",
    "    bound = stats.t.interval(0.95, len(atp[k,:])-1, loc=np.mean(atp[k,:]), scale=stats.sem(atp[k,:]))\n",
    "\n",
    "    atp_v[k,1] = bound[1] - atp_v[k,0]\n",
    "    atp_v[k,2] = atp_v[k,0] - bound[0]\n",
    "    \n",
    "#print(atp_v)\n",
    "np.savetxt('atpAHTs.csv',atp_v,delimiter=',')"
   ]
  },
  {
   "cell_type": "code",
   "execution_count": 9,
   "metadata": {},
   "outputs": [],
   "source": [
    "def ATPfunc(x,a,b):\n",
    "    return (a + b*x)\n",
    "    \n",
    "    #return (a + b*(x-np.log(100)))"
   ]
  },
  {
   "cell_type": "code",
   "execution_count": 5,
   "metadata": {},
   "outputs": [
    {
     "name": "stdout",
     "output_type": "stream",
     "text": [
      "(6, 6)\n"
     ]
    }
   ],
   "source": [
    "#v_data = pd.read_csv('Viability_T1-ATP-fit.csv',)\n",
    "v7 = pd.read_csv('ATP-T2-Study7.csv').to_numpy()[:-1,:]\n",
    "v9 = pd.read_csv('ATP-T2-Study9.csv').to_numpy()[:-1,:]\n",
    "vAHT = pd.read_csv('ATP-T2-AHT.csv').to_numpy()[:-1,:]\n",
    "print(v7.shape)"
   ]
  },
  {
   "cell_type": "code",
   "execution_count": 6,
   "metadata": {},
   "outputs": [
    {
     "name": "stdout",
     "output_type": "stream",
     "text": [
      "[ 3.78063476 -1.78852152]\n",
      "[0.32828526 0.5248924 ]\n",
      "4.3962953696986675\n"
     ]
    }
   ],
   "source": [
    "popt, pcov = optim.curve_fit(ATPfunc,np.log(v7[:,0]),np.log(v7[:,3]))\n",
    "print(popt)\n",
    "perr = np.sqrt(np.diag(pcov))\n",
    "print(perr)\n",
    "\n",
    "popt_ul = copy.deepcopy(popt)\n",
    "popt_ul[0] += 1*perr[0]\n",
    "popt_ul[1] -= 1*perr[1]\n",
    "#opt_ul[2] += perr[2]\n",
    "\n",
    "popt_ll = copy.deepcopy(popt)\n",
    "popt_ll[0] -= 1*perr[0]\n",
    "popt_ll[1] += 1*perr[1]\n",
    "#opt_ll[2] -= perr[2]\n",
    "\n",
    "atp_fit = math.exp(1)**ATPfunc(np.log(v7[:,0]),popt[0],popt[1])\n",
    "\n",
    "atp_array7 = np.log(np.linspace(0.4,0.75,501))\n",
    "atp7 = math.exp(1)**atp_array7\n",
    "ts7 = math.exp(1)**ATPfunc(atp_array7,popt[0],popt[1])\n",
    "\n",
    "#print(ts7)\n",
    "\n",
    "t_ul7 = math.exp(1)**ATPfunc(atp_array7,popt_ul[0],popt_ul[1])\n",
    "t_ll7 = math.exp(1)**ATPfunc(atp_array7,popt_ll[0],popt_ll[1])\n",
    "\n",
    "err7 = np.zeros(shape=(2,ts7.shape[0]))\n",
    "err7[0,:] = ts7 - t_ll7\n",
    "err7[1,:] = t_ul7 - ts7\n",
    "\n",
    "chisq, p = stats.chisquare(v7[:,3], atp_fit)\n",
    "print(math.sqrt(chisq))"
   ]
  },
  {
   "cell_type": "code",
   "execution_count": 7,
   "metadata": {},
   "outputs": [
    {
     "name": "stdout",
     "output_type": "stream",
     "text": [
      "[ 3.85168553 -3.94611658]\n",
      "[0.15205743 0.56664541]\n",
      "2.572355036548539\n"
     ]
    }
   ],
   "source": [
    "popt, pcov = optim.curve_fit(ATPfunc,np.log(v9[:,0]),np.log(v9[:,3]))\n",
    "print(popt)\n",
    "perr = np.sqrt(np.diag(pcov))\n",
    "print(perr)\n",
    "\n",
    "popt_ul = copy.deepcopy(popt)\n",
    "popt_ul[0] += 2*perr[0]\n",
    "popt_ul[1] -= 2*perr[1]\n",
    "#opt_ul[2] += perr[2]\n",
    "\n",
    "popt_ll = copy.deepcopy(popt)\n",
    "popt_ll[0] -= 2*perr[0]\n",
    "popt_ll[1] += 2*perr[1]\n",
    "#opt_ll[2] -= perr[2]\n",
    "\n",
    "atp_fit = math.exp(1)**ATPfunc(np.log(v9[:,0]),popt[0],popt[1])\n",
    "\n",
    "atp_array9 = np.log(np.linspace(0.7,0.9,501))\n",
    "atp9 = math.exp(1)**atp_array9\n",
    "ts9 = math.exp(1)**ATPfunc(atp_array9,popt[0],popt[1])\n",
    "\n",
    "t_ul9 = math.exp(1)**ATPfunc(atp_array9,popt_ul[0],popt_ul[1])\n",
    "t_ll9 = math.exp(1)**ATPfunc(atp_array9,popt_ll[0],popt_ll[1])\n",
    "\n",
    "chisq, p = stats.chisquare(v9[:,3], atp_fit)\n",
    "print(math.sqrt(chisq))"
   ]
  },
  {
   "cell_type": "code",
   "execution_count": 8,
   "metadata": {},
   "outputs": [
    {
     "name": "stdout",
     "output_type": "stream",
     "text": [
      "[ 3.69657395 -3.12304946]\n",
      "[0.4394334  1.14743152]\n",
      "5.591558080951028\n"
     ]
    }
   ],
   "source": [
    "popt, pcov = optim.curve_fit(ATPfunc,np.log(vAHT[:,0]),np.log(vAHT[:,3]))\n",
    "print(popt)\n",
    "perr = np.sqrt(np.diag(pcov))\n",
    "print(perr)\n",
    "\n",
    "popt_ul = copy.deepcopy(popt)\n",
    "popt_ul[0] += 2*perr[0]\n",
    "popt_ul[1] -= 2*perr[1]\n",
    "#opt_ul[2] += perr[2]\n",
    "\n",
    "popt_ll = copy.deepcopy(popt)\n",
    "popt_ll[0] -= 2*perr[0]\n",
    "popt_ll[1] += 2*perr[1]\n",
    "#opt_ll[2] -= perr[2]\n",
    "\n",
    "atp_fit = math.exp(1)**ATPfunc(np.log(vAHT[:,0]),popt[0],popt[1])\n",
    "\n",
    "atp_arrayAHT = np.log(np.linspace(0.6,0.85,501))\n",
    "atpAHT = math.exp(1)**atp_arrayAHT\n",
    "tsAHT = math.exp(1)**ATPfunc(atp_arrayAHT,popt[0],popt[1])\n",
    "\n",
    "t_ulAHT = math.exp(1)**ATPfunc(atp_arrayAHT,popt_ul[0],popt_ul[1])\n",
    "t_llAHT = math.exp(1)**ATPfunc(atp_arrayAHT,popt_ll[0],popt_ll[1])\n",
    "\n",
    "chisq, p = stats.chisquare(vAHT[:,3], atp_fit)\n",
    "print(math.sqrt(chisq))"
   ]
  },
  {
   "cell_type": "code",
   "execution_count": 15,
   "metadata": {},
   "outputs": [
    {
     "data": {
      "image/png": "[encoded data removed]",
      "text/plain": [
       "<Figure size 576x432 with 1 Axes>"
      ]
     },
     "metadata": {
      "needs_background": "light"
     },
     "output_type": "display_data"
    }
   ],
   "source": [
    "fig, axs = plt.subplots(figsize=(8,6))\n",
    "\n",
    "rcParams['font.family'] = 'sans-serif'\n",
    "rcParams['font.sans-serif'] = ['Times New Roman']\n",
    "\n",
    "#plt.errorbar(v7[:,0],v7[:,3],v7[:,4],v7[:,1],fmt='o',lw=2,alpha=0.5,mew=0,ms=10,color='r',capsize=5,capthick=1)\n",
    "plt.plot(v7[:,0],v7[:,3],marker='o',lw=0.0,alpha=0.5,mew=0,ms=10,color='r')\n",
    "#plt.errorbar(atp7,ts7,err7,fmt='o',lw=2,alpha=0.2,mew=2,ms=7,color='r',capsize=5,capthick=1,label='Study 7')\n",
    "plt.plot(atp7,ts7,linewidth=1.5,color='r',alpha=0.6)\n",
    "#plt.plot(atp7,ts7,linewidth=1.5,color='r',alpha=0.6,label=r'43.8[ATP]$^{-1.78};\\chi = 4.4$ h')\n",
    "plt.fill_between(atp7,t_ll7,t_ul7,color='r',alpha=0.2)\n",
    "\n",
    "#plt.errorbar(v9[:,0],v9[:,3],v9[:,4],v9[:,1],fmt='o',lw=2,alpha=0.5,mew=0,ms=10,color='b',capsize=5,capthick=1)\n",
    "plt.plot(v9[:,0],v9[:,3],marker='o',lw=0.0,alpha=0.5,mew=0,ms=10,color='b')\n",
    "plt.plot(atp9,ts9,linewidth=1.5,color='b',alpha=0.6)\n",
    "#plt.plot(atp9,ts9,linewidth=1.5,color='b',alpha=0.6,label=r'47[ATP]$^{-3.95};\\chi = 2.6$ h')\n",
    "plt.fill_between(atp9,t_ll9,t_ul9,color='b',alpha=0.2)\n",
    "#plt.plot(v24[:,0],v24[:,3],marker='o',linewidth=0,ms=8,color='c',alpha=0.7,label='24 h',mew=0)\n",
    "\n",
    "\n",
    "#plt.errorbar(vAHT[:,0],vAHT[:,3],vAHT[:,4],vAHT[:,1],fmt='o',lw=2,alpha=0.5,mew=0,ms=10,color='g',capsize=5,capthick=1)\n",
    "plt.errorbar(vAHT[:,0],vAHT[:,3],marker='o',lw=0.0,alpha=0.5,mew=0,ms=10,color='g')\n",
    "plt.plot(atpAHT,tsAHT,linewidth=1.5,color='g',alpha=0.6)\n",
    "#plt.plot(atpAHT,tsAHT,linewidth=1.5,color='g',alpha=0.6,label=r'40.4[ATP]$^{-3.12};\\chi = 5.6$ h')\n",
    "plt.fill_between(atpAHT,t_llAHT,t_ulAHT,color='g',alpha=0.2)\n",
    "#plt.errorbar(v48[:,0],v48[:,3],v48[:,4],v48[:,1],fmt='o',lw=2,alpha=0.7,mew=2,ms=7,color='m',capsize=5,capthick=1,label='48 h')\n",
    "#plt.plot(v48[:,0],v48[:,3],marker='o',linewidth=0,ms=8,color='m',alpha=0.7,label='48 h',mew=0)\n",
    "\n",
    "#plt.errorbar(v72[:,0],v72[:,3],v72[:,4],v72[:,1],fmt='o',lw=3,alpha=0.7,mew=2,ms=7,color='y',capsize=5,capthick=1,label='72 h')\n",
    "#plt.plot(v72[:,0],v72[:,3],marker='o',linewidth=0,ms=8,color='y',alpha=0.7,label='72 h',mew=0)\n",
    "\n",
    "plt.plot(v7[0,0],v7[0,3],marker='o',lw=0.0,alpha=0.7,mew=0,ms=10,color='r',label='ATP-1')\n",
    "plt.plot(v9[0,0],v9[0,3],marker='o',lw=0.0,alpha=0.7,mew=0,ms=10,color='b',label='ATP-2')\n",
    "plt.plot(vAHT[0,0],vAHT[0,3],marker='o',lw=0.0,alpha=0.7,mew=0,ms=10,color='g',label='ATP-3')\n",
    "\n",
    "plt.xticks(size=20)\n",
    "plt.yticks(size=20)  \n",
    "plt.xlabel(r'ATP ($\\mu$M)',size=22)\n",
    "plt.ylabel(r'T2 (h)',size=22,rotation=90)\n",
    "plt.minorticks_on()\n",
    "plt.xlim(0.3,1.0)\n",
    "plt.ylim(0,400)\n",
    "axs.tick_params(which='major', length=8)\n",
    "axs.tick_params(which='minor', length=4)\n",
    "plt.legend(frameon=False,prop={'size': 12},markerscale=1.0,handlelength=0.5, loc='upper left')\n",
    "plt.tight_layout()\n",
    "\n",
    "plt.savefig('ATP-summary-m60wAHT-5.png',dpi=600)"
   ]
  },
  {
   "cell_type": "code",
   "execution_count": 8,
   "metadata": {},
   "outputs": [
    {
     "ename": "NameError",
     "evalue": "name 'v_data' is not defined",
     "output_type": "error",
     "traceback": [
      "\u001b[0;31m---------------------------------------------------------------------------\u001b[0m",
      "\u001b[0;31mNameError\u001b[0m                                 Traceback (most recent call last)",
      "\u001b[0;32m<ipython-input-8-89106520a258>\u001b[0m in \u001b[0;36m<module>\u001b[0;34m\u001b[0m\n\u001b[0;32m----> 1\u001b[0;31m \u001b[0mxs\u001b[0m \u001b[0;34m=\u001b[0m \u001b[0mv_data\u001b[0m\u001b[0;34m[\u001b[0m\u001b[0;34m'AODAPI'\u001b[0m\u001b[0;34m]\u001b[0m\u001b[0;34m.\u001b[0m\u001b[0mto_numpy\u001b[0m\u001b[0;34m(\u001b[0m\u001b[0;34m)\u001b[0m\u001b[0;34m\u001b[0m\u001b[0;34m\u001b[0m\u001b[0m\n\u001b[0m\u001b[1;32m      2\u001b[0m \u001b[0mmax_atp\u001b[0m \u001b[0;34m=\u001b[0m \u001b[0mnp\u001b[0m\u001b[0;34m.\u001b[0m\u001b[0mmax\u001b[0m\u001b[0;34m(\u001b[0m\u001b[0mxs\u001b[0m\u001b[0;34m)\u001b[0m\u001b[0;34m\u001b[0m\u001b[0;34m\u001b[0m\u001b[0m\n\u001b[1;32m      3\u001b[0m \u001b[0mprint\u001b[0m\u001b[0;34m(\u001b[0m\u001b[0mxs\u001b[0m\u001b[0;34m)\u001b[0m\u001b[0;34m\u001b[0m\u001b[0;34m\u001b[0m\u001b[0m\n",
      "\u001b[0;31mNameError\u001b[0m: name 'v_data' is not defined"
     ]
    }
   ],
   "source": [
    "xs = v_data['AODAPI'].to_numpy()\n",
    "max_atp = np.max(xs)\n",
    "print(xs)"
   ]
  },
  {
   "cell_type": "code",
   "execution_count": 14,
   "metadata": {},
   "outputs": [
    {
     "name": "stdout",
     "output_type": "stream",
     "text": [
      "[91.04825156 90.41634933 85.12091253 78.79769836 77.35471704 65.48592972\n",
      " 62.26655348 96.18375836 94.70832686 89.54151808 83.75735913 71.58916709\n",
      " 68.47107004 97.0877899  91.58067542 77.32832916 61.26893939 91.72106306\n",
      " 94.21362799 63.61224296 64.17491872] [ 74.93339334 122.590459   104.1071107  164.4527453  150.7650765\n",
      " 193.5265527  443.6012601  102.3087309   80.82808281  85.02430243\n",
      " 126.7866787  147.2682268  178.0405041   93.01710171 112.9990999\n",
      " 193.4266427  212.209721    71.63636364  72.13591359 159.6570657\n",
      " 190.129613  ]\n"
     ]
    }
   ],
   "source": [
    "x_data = np.zeros(shape=(n_data*xs.shape[0],))\n",
    "y_data = np.zeros(shape=(n_data*xs.shape[0],))\n",
    "\n",
    "n = 0\n",
    "\n",
    "for k in list(v_data):\n",
    "    if 'T2' in k:\n",
    "        x_data[n:n+xs.shape[0]] = xs #- ATP_offset\n",
    "        y_data[n:n+xs.shape[0]] = v_data[k].to_numpy()\n",
    "        \n",
    "        n += xs.shape[0]\n",
    "        \n",
    "print(x_data,y_data)"
   ]
  },
  {
   "cell_type": "code",
   "execution_count": 15,
   "metadata": {},
   "outputs": [
    {
     "name": "stdout",
     "output_type": "stream",
     "text": [
      "[ 4.34060711 -2.38624714]\n",
      "[0.09083485 0.32891399]\n"
     ]
    }
   ],
   "source": [
    "popt, pcov = optim.curve_fit(ATPfunc,np.log(x_data),np.log(y_data))\n",
    "print(popt)\n",
    "perr = np.sqrt(np.diag(pcov))\n",
    "print(perr)\n",
    "\n",
    "popt_ul = copy.deepcopy(popt)\n",
    "popt_ul[0] += 2*perr[0]\n",
    "popt_ul[1] -= 2*perr[1]\n",
    "#opt_ul[2] += perr[2]\n",
    "\n",
    "popt_ll = copy.deepcopy(popt)\n",
    "popt_ll[0] -= 2*perr[0]\n",
    "popt_ll[1] += 2*perr[1]\n",
    "#opt_ll[2] -= perr[2]"
   ]
  },
  {
   "cell_type": "code",
   "execution_count": 16,
   "metadata": {},
   "outputs": [],
   "source": [
    "#atp_array = np.log(np.linspace(0.2,0.8,51))#-ATP_offset)\n",
    "atp_array = np.log(np.linspace(60,100,51))#-ATP_offset)\n",
    "ts = math.exp(1)**ATPfunc(atp_array,popt[0],popt[1])\n",
    "\n",
    "t_ul = math.exp(1)**ATPfunc(atp_array,popt_ul[0],popt_ul[1])\n",
    "t_ll = math.exp(1)**ATPfunc(atp_array,popt_ll[0],popt_ll[1])\n",
    "\n",
    "#atp_array = np.log(np.linspace(90,100,41))\n",
    "\n",
    "total_data = np.zeros(shape=(ts.shape[0],4))\n",
    "total_data[:,0] = math.exp(1)**atp_array #+ ATP_offset\n",
    "total_data[:,1] = ts\n",
    "total_data[:,2] = t_ul - ts\n",
    "total_data[:,3] = ts - t_ll\n",
    "\n",
    "cols = ['x','y','+','-']\n",
    "solved_data = pd.DataFrame(total_data,columns=cols)\n",
    "solved_data.to_csv('pairedAODAPIT2_fit-24-g.csv',index=None)\n",
    "#solved_data.to_csv('paired-AODAPI_fit-24-g.csv',index=None)\n",
    "\n",
    "#np.savetxt('viability_fit-60.csv',total_data,delimiter=',')"
   ]
  },
  {
   "cell_type": "code",
   "execution_count": 30,
   "metadata": {},
   "outputs": [],
   "source": [
    "data_folder = '/Users/sns9/Research/GrowthCurves/ATP/'\n",
    "os.chdir(data_folder)\n",
    "\n",
    "v7 = pd.read_csv('ATP-T2-Study7-normal.csv').to_numpy()[:-1,:]\n",
    "v9 = pd.read_csv('ATP-T2-Study9-normal.csv').to_numpy()[:-1,:]"
   ]
  },
  {
   "cell_type": "code",
   "execution_count": 40,
   "metadata": {},
   "outputs": [
    {
     "name": "stdout",
     "output_type": "stream",
     "text": [
      "[ 4.32698639 -1.78888685]\n",
      "[0.17778363 0.52553748]\n",
      "4.400035571676106\n"
     ]
    }
   ],
   "source": [
    "popt, pcov = optim.curve_fit(ATPfunc,np.log(v7[:,0]),np.log(v7[:,3]))\n",
    "print(popt)\n",
    "perr = np.sqrt(np.diag(pcov))\n",
    "print(perr)\n",
    "\n",
    "popt_ul = copy.deepcopy(popt)\n",
    "popt_ul[0] += 1*perr[0]\n",
    "popt_ul[1] -= 1*perr[1]\n",
    "#opt_ul[2] += perr[2]\n",
    "\n",
    "popt_ll = copy.deepcopy(popt)\n",
    "popt_ll[0] -= 1*perr[0]\n",
    "popt_ll[1] += 1*perr[1]\n",
    "#opt_ll[2] -= perr[2]\n",
    "\n",
    "atp_fit = math.exp(1)**ATPfunc(np.log(v7[:,0]),popt[0],popt[1])\n",
    "\n",
    "atp_array7 = np.log(np.linspace(0.5,1,501))\n",
    "atp7 = math.exp(1)**atp_array7\n",
    "ts7 = math.exp(1)**ATPfunc(atp_array7,popt[0],popt[1])\n",
    "vmod7 = math.exp(1)**ATPfunc(np.log(v7[:,0]),popt[0],popt[1])\n",
    "\n",
    "#print(ts7)\n",
    "\n",
    "t_ul7 = math.exp(1)**ATPfunc(atp_array7,popt_ul[0],popt_ul[1])\n",
    "t_ll7 = math.exp(1)**ATPfunc(atp_array7,popt_ll[0],popt_ll[1])\n",
    "\n",
    "err7 = np.zeros(shape=(2,ts7.shape[0]))\n",
    "err7[0,:] = ts7 - t_ll7\n",
    "err7[1,:] = t_ul7 - ts7\n",
    "\n",
    "chisq, p = stats.chisquare(v7[:,3], atp_fit)\n",
    "print(math.sqrt(chisq))"
   ]
  },
  {
   "cell_type": "code",
   "execution_count": 47,
   "metadata": {},
   "outputs": [
    {
     "name": "stdout",
     "output_type": "stream",
     "text": [
      "[ 4.33276484 -3.9482891 ]\n",
      "[0.08840269 0.56695422]\n",
      "2.573439893249039\n"
     ]
    }
   ],
   "source": [
    "popt, pcov = optim.curve_fit(ATPfunc,np.log(v9[:,0]),np.log(v9[:,3]))\n",
    "print(popt)\n",
    "perr = np.sqrt(np.diag(pcov))\n",
    "print(perr)\n",
    "\n",
    "popt_ul = copy.deepcopy(popt)\n",
    "popt_ul[0] += 2*perr[0]\n",
    "popt_ul[1] -= 2*perr[1]\n",
    "#opt_ul[2] += perr[2]\n",
    "\n",
    "popt_ll = copy.deepcopy(popt)\n",
    "popt_ll[0] -= 2*perr[0]\n",
    "popt_ll[1] += 2*perr[1]\n",
    "#opt_ll[2] -= perr[2]\n",
    "\n",
    "atp_fit = math.exp(1)**ATPfunc(np.log(v9[:,0]),popt[0],popt[1])\n",
    "\n",
    "vmod9 = math.exp(1)**ATPfunc(np.log(v9[:,0]),popt[0],popt[1])\n",
    "\n",
    "atp_array9 = np.log(np.linspace(0.5,1,501))\n",
    "atp9 = math.exp(1)**atp_array9\n",
    "ts9 = math.exp(1)**ATPfunc(atp_array9,popt[0],popt[1])\n",
    "\n",
    "t_ul9 = math.exp(1)**ATPfunc(atp_array9,popt_ul[0],popt_ul[1])\n",
    "t_ll9 = math.exp(1)**ATPfunc(atp_array9,popt_ll[0],popt_ll[1])\n",
    "\n",
    "chisq, p = stats.chisquare(v9[:,3], atp_fit)\n",
    "print(math.sqrt(chisq))"
   ]
  },
  {
   "cell_type": "code",
   "execution_count": 39,
   "metadata": {},
   "outputs": [
    {
     "data": {
      "image/png": "[encoded data removed]",
      "text/plain": [
       "<Figure size 576x432 with 1 Axes>"
      ]
     },
     "metadata": {
      "needs_background": "light"
     },
     "output_type": "display_data"
    }
   ],
   "source": [
    "fig, axs = plt.subplots(figsize=(8,6))\n",
    "\n",
    "rcParams['font.family'] = 'sans-serif'\n",
    "rcParams['font.sans-serif'] = ['Times New Roman']\n",
    "\n",
    "plt.errorbar(v7[:,0],v7[:,3],v7[:,4],v7[:,1],fmt='o',lw=2,alpha=0.5,mew=0,ms=10,color='r',capsize=5,capthick=1,label='ATP-1')\n",
    "plt.plot(v7[:,0],v7[:,3],marker='o',lw=0.0,alpha=0.5,mew=0,ms=10,color='r')\n",
    "#plt.errorbar(atp7,ts7,err7,fmt='o',lw=2,alpha=0.2,mew=2,ms=7,color='r',capsize=5,capthick=1,label='Study 7')\n",
    "#plt.plot(atp7,ts7,linewidth=1.5,color='r',alpha=0.6)\n",
    "plt.plot(atp7,ts7,linewidth=1.5,color='r',alpha=0.6,label=r'43.8[ATP]$^{-1.78}$')#;\\chi = 4.4$ h')\n",
    "plt.fill_between(atp7,t_ll7,t_ul7,color='r',alpha=0.2)\n",
    "\n",
    "plt.errorbar(v9[:,0],v9[:,3],v9[:,4],v9[:,1],fmt='o',lw=2,alpha=0.5,mew=0,ms=10,color='b',capsize=5,capthick=1,label='ATP-2')\n",
    "#plt.plot(v9[:,0],v9[:,3],marker='o',lw=0.0,alpha=0.5,mew=0,ms=10,color='b')\n",
    "#plt.plot(atp9,ts9,linewidth=1.5,color='b',alpha=0.6)\n",
    "plt.plot(atp9,ts9,linewidth=1.5,color='b',alpha=0.6,label=r'47[ATP]$^{-3.95}$')#';\\chi = 2.6$ h')\n",
    "plt.fill_between(atp9,t_ll9,t_ul9,color='b',alpha=0.2)\n",
    "#plt.plot(v24[:,0],v24[:,3],marker='o',linewidth=0,ms=8,color='c',alpha=0.7,label='24 h',mew=0)\n",
    "\n",
    "\n",
    "#plt.errorbar(vAHT[:,0],vAHT[:,3],vAHT[:,4],vAHT[:,1],fmt='o',lw=2,alpha=0.5,mew=0,ms=10,color='g',capsize=5,capthick=1)\n",
    "#plt.errorbar(vAHT[:,0],vAHT[:,3],marker='o',lw=0.0,alpha=0.5,mew=0,ms=10,color='g')\n",
    "#plt.plot(atpAHT,tsAHT,linewidth=1.5,color='g',alpha=0.6)\n",
    "#plt.plot(atpAHT,tsAHT,linewidth=1.5,color='g',alpha=0.6,label=r'40.4[ATP]$^{-3.12};\\chi = 5.6$ h')\n",
    "#plt.fill_between(atpAHT,t_llAHT,t_ulAHT,color='g',alpha=0.2)\n",
    "#plt.errorbar(v48[:,0],v48[:,3],v48[:,4],v48[:,1],fmt='o',lw=2,alpha=0.7,mew=2,ms=7,color='m',capsize=5,capthick=1,label='48 h')\n",
    "#plt.plot(v48[:,0],v48[:,3],marker='o',linewidth=0,ms=8,color='m',alpha=0.7,label='48 h',mew=0)\n",
    "\n",
    "#plt.errorbar(v72[:,0],v72[:,3],v72[:,4],v72[:,1],fmt='o',lw=3,alpha=0.7,mew=2,ms=7,color='y',capsize=5,capthick=1,label='72 h')\n",
    "#plt.plot(v72[:,0],v72[:,3],marker='o',linewidth=0,ms=8,color='y',alpha=0.7,label='72 h',mew=0)\n",
    "\n",
    "#plt.plot(v7[0,0],v7[0,3],marker='o',lw=0.0,alpha=0.7,mew=0,ms=10,color='r',label='ATP-1')\n",
    "#plt.plot(v9[0,0],v9[0,3],marker='o',lw=0.0,alpha=0.7,mew=0,ms=10,color='b',label='ATP-2')\n",
    "#plt.plot(vAHT[0,0],vAHT[0,3],marker='o',lw=0.0,alpha=0.7,mew=0,ms=10,color='g',label='ATP-3')\n",
    "\n",
    "plt.xticks(size=20)\n",
    "plt.yticks(size=20)  \n",
    "plt.xlabel(r'ATP (Normalized)',size=22)\n",
    "plt.ylabel(r'T2 (h)',size=22,rotation=90)\n",
    "plt.minorticks_on()\n",
    "plt.xlim(0.45,1.05)\n",
    "plt.ylim(0,400)\n",
    "axs.tick_params(which='major', length=8)\n",
    "axs.tick_params(which='minor', length=4)\n",
    "plt.legend(frameon=False,prop={'size': 16},markerscale=1.0,handlelength=0.8, loc='upper right')\n",
    "plt.tight_layout()\n",
    "\n",
    "plt.savefig('ATP-normalized.png',dpi=600)"
   ]
  },
  {
   "cell_type": "code",
   "execution_count": 45,
   "metadata": {},
   "outputs": [
    {
     "name": "stdout",
     "output_type": "stream",
     "text": [
      "25.235872023013638\n"
     ]
    }
   ],
   "source": [
    "chisq = np.sum((v7[:,3]- vmod7)**2)\n",
    "chisq *= 1.0/float(v7.shape[0]-2)\n",
    "\n",
    "print(math.sqrt(chisq))"
   ]
  },
  {
   "cell_type": "code",
   "execution_count": 48,
   "metadata": {},
   "outputs": [
    {
     "name": "stdout",
     "output_type": "stream",
     "text": [
      "15.730207572248164\n"
     ]
    }
   ],
   "source": [
    "chisq = np.sum((v9[:,3]- vmod9)**2)\n",
    "chisq *= 1.0/float(v9.shape[0]-2)\n",
    "\n",
    "print(math.sqrt(chisq))"
   ]
  },
  {
   "cell_type": "code",
   "execution_count": 49,
   "metadata": {},
   "outputs": [
    {
     "name": "stdout",
     "output_type": "stream",
     "text": [
      "[ 83.62556256  98.6919892  104.5067507  159.6370837  167.3168317\n",
      " 204.7963996 ] [ 75.71576445 126.46426516 128.17845653 133.22870547 149.68219485\n",
      " 192.76310353]\n"
     ]
    }
   ],
   "source": [
    "print(v7[:,3],vmod7)"
   ]
  },
  {
   "cell_type": "code",
   "execution_count": 50,
   "metadata": {},
   "outputs": [
    {
     "name": "stdout",
     "output_type": "stream",
     "text": [
      "[ 83.62556256  98.6919892  104.5067507  159.6370837  167.3168317\n",
      " 204.7963996 ] [ 76.15455119 112.33011584 109.15419547 156.09000471 179.04836443\n",
      " 180.79361144]\n"
     ]
    }
   ],
   "source": [
    "print(v9[:,3],vmod9)"
   ]
  },
  {
   "cell_type": "code",
   "execution_count": null,
   "metadata": {},
   "outputs": [],
   "source": []
  }
 ],
 "metadata": {
  "kernelspec": {
   "display_name": "Python 3",
   "language": "python",
   "name": "python3"
  },
  "language_info": {
   "codemirror_mode": {
    "name": "ipython",
    "version": 3
   },
   "file_extension": ".py",
   "mimetype": "text/x-python",
   "name": "python",
   "nbconvert_exporter": "python",
   "pygments_lexer": "ipython3",
   "version": "3.7.3"
  }
 },
 "nbformat": 4,
 "nbformat_minor": 4
}
