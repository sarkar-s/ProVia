{
 "cells": [
  {
   "cell_type": "markdown",
   "metadata": {},
   "source": [
    "# ATP viability and inflection points"
   ]
  },
  {
   "cell_type": "code",
   "execution_count": 1,
   "metadata": {},
   "outputs": [],
   "source": [
    "import numpy as np\n",
    "import scipy.optimize as optim\n",
    "import math\n",
    "import os,sys\n",
    "import pandas as pd\n",
    "import copy\n",
    "import scipy.stats as st\n",
    "from scipy.stats import t\n",
    "import matplotlib.pyplot as plt\n",
    "from matplotlib import rcParams\n",
    "import random as rand\n",
    "\n",
    "import matplotlib.colors as mcolors"
   ]
  },
  {
   "cell_type": "code",
   "execution_count": 2,
   "metadata": {},
   "outputs": [],
   "source": [
    "c_list = []\n",
    "\n",
    "for cv in mcolors.TABLEAU_COLORS:\n",
    "    c_list.append(mcolors.TABLEAU_COLORS[cv])"
   ]
  },
  {
   "cell_type": "code",
   "execution_count": 3,
   "metadata": {},
   "outputs": [],
   "source": [
    "def linear(x,a,b):\n",
    "    return (a*x + b)"
   ]
  },
  {
   "cell_type": "markdown",
   "metadata": {},
   "source": [
    "**Read viability and T2 inflection points**"
   ]
  },
  {
   "cell_type": "code",
   "execution_count": 4,
   "metadata": {},
   "outputs": [],
   "source": [
    "cwd = os.getcwd()\n",
    "data_directory = './data/ATP'\n",
    "os.chdir(data_directory)\n",
    "\n",
    "atp_T2 = pd.read_csv('atp_viability_day1-set1.csv')"
   ]
  },
  {
   "cell_type": "code",
   "execution_count": 5,
   "metadata": {},
   "outputs": [
    {
     "name": "stdout",
     "output_type": "stream",
     "text": [
      "0.960000334 0.795530344\n",
      "1.130023795 0.843973123\n",
      "1.848669079 1.486959664\n"
     ]
    }
   ],
   "source": [
    "atp_keys = ['9-10','11-13','12-14']\n",
    "\n",
    "#atp_keys = ['18-19','20-21','22-23','24-25','26-27','28-29','30-31','32-33']\n",
    "\n",
    "atps, t2s = {}, {}\n",
    "\n",
    "for k in atp_keys:\n",
    "    k1 = 'ATP' + k\n",
    "    k2 = 'AODAPI' + k\n",
    "    \n",
    "    atps[k] = []\n",
    "    t2s[k] = []\n",
    "    \n",
    "    max_ATP = max(atp_T2[k1])\n",
    "    min_ATP = min(atp_T2[k1])\n",
    "    \n",
    "    for v1,v2 in zip(atp_T2[k1],atp_T2[k2]):\n",
    "        if np.isnan(v1)==False:\n",
    "            atps[k].append(v1)\n",
    "            \n",
    "            t2s[k].append(85.77*((v2/100)**(-1.7)))"
   ]
  },
  {
   "cell_type": "markdown",
   "metadata": {},
   "source": [
    "For computing CI of the model parameters."
   ]
  },
  {
   "cell_type": "code",
   "execution_count": null,
   "metadata": {},
   "outputs": [],
   "source": [
    "tinv = lambda p, df: abs(t.ppf(p/2,df))"
   ]
  },
  {
   "cell_type": "markdown",
   "metadata": {},
   "source": [
    "**Fit $\\log[\\mathrm{ATP}]$-vs-T2.**"
   ]
  },
  {
   "cell_type": "code",
   "execution_count": null,
   "metadata": {},
   "outputs": [],
   "source": [
    "r2s = {}\n",
    "\n",
    "for k in atp_keys:\n",
    "    results = st.linregress(atps[k],t2s[k])\n",
    "    \n",
    "    r2s[k] = str(round(results.rvalue**2,3))\n"
   ]
  },
  {
   "cell_type": "code",
   "execution_count": null,
   "metadata": {},
   "outputs": [],
   "source": [
    "for k in atp_keys:\n",
    "    #popt, pcov = optim.curve_fit(model,atps[k]/np.min(atps[k]),t2s[k])\n",
    "    popt, pcov = optim.curve_fit(linear,atps[k],t2s[k])\n",
    "    \n",
    "    print(k, popt,pcov)"
   ]
  },
  {
   "cell_type": "code",
   "execution_count": null,
   "metadata": {},
   "outputs": [],
   "source": [
    "all_markers = [\"o\",\"v\",\"^\"]#,\"<\",\">\",\"s\",\"p\",\"P\",\"*\",\"X\",\"d\",\"D\"]\n",
    "\n",
    "#studies = ['9-10','11-13','12-14']\n",
    "\n",
    "lws = [2,3,4]\n",
    "\n",
    "fig, axs = plt.subplots(figsize=(8,7))\n",
    "\n",
    "rcParams['font.family'] = 'sans-serif'\n",
    "rcParams['font.sans-serif'] = ['Times New Roman']\n",
    "\n",
    "#color_list = {'9-10':'red','11-13':'blue','12-14':'green'}\n",
    "\n",
    "selected_colors = []\n",
    "\n",
    "mi = 0\n",
    "\n",
    "for k in atp_keys:\n",
    "    labelname = k.replace('Study','ATP-')\n",
    "    \n",
    "    #sel_c = rand.choice(c_list)\n",
    "    #c_list.remove(sel_c)\n",
    "    \n",
    "    alpha_s = np.linspace(0.25,1,len(atps[k]))\n",
    "    \n",
    "    #plt.plot(atps[k],t2s[k],marker='o',ms=8,alpha=1.0,linewidth=0,label='ATP '+labelname+'; R$^2$='+r2s[k],color=sel_c)\n",
    "    \n",
    "    plt.scatter(atps[k],t2s[k],marker=all_markers[mi],s=100,alpha=alpha_s,linewidth=0,color='black')\n",
    "    #plt.scatter(atps[k],t2s[k],marker='o',s=100,alpha=0.85,linewidth=0,label='ATP '+labelname)#,color='black')\n",
    "    \n",
    "    #popt, pcov = optim.curve_fit(model,atps[k]/np.min(atps[k]),t2s[k])\n",
    "    popt, pcov = optim.curve_fit(linear,atps[k],t2s[k])\n",
    "    \n",
    "    atp_range = np.linspace(0.995*np.min(atps[k]),1.1*np.max(atps[k]),100)\n",
    "    \n",
    "    t2_range = linear(atp_range,popt[0],popt[1])\n",
    "    \n",
    "    plt.plot(atp_range,t2_range,lw=lws[mi],alpha=0.75,color='black')\n",
    "    \n",
    "    plt.plot(atps[k][-1],t2s[k][-1],ms=8,lw=0,marker=all_markers[mi],color='black',label='ATP '+labelname+'; R$^2$='+r2s[k])\n",
    "    \n",
    "    mi += 1\n",
    "\n",
    "plt.xticks(size=22)\n",
    "plt.yticks(size=22)  \n",
    "#plt.xlabel(r'([ATP] - [ATP]$_{\\mathrm{min}}$)/([ATP]$_{\\mathrm{max}}$ - [ATP]$_{\\mathrm{min}}$)',size=22)\n",
    "#plt.xlabel(r'[ATP]/[ATP]$_{\\mathrm{max}}$',size=22)\n",
    "#plt.xlabel(r'[ATP] $\\mu$M, 24 h',size=22)\n",
    "plt.xlabel(r'[ATP] ($\\mu$M)',size=22)\n",
    "plt.ylabel(r'T2$_{\\mathrm{est}}$ (h)',size=22,rotation=90)\n",
    "#plt.xlim(0.3,1.0)\n",
    "#plt.ylim(0,400)\n",
    "#plt.xscale('log')\n",
    "#plt.yscale('log')\n",
    "plt.legend(frameon=True,prop={'size': 16,'family':'Times New Roman'},markerscale=1.0,handlelength=1.0,loc='best')\n",
    "\n",
    "plt.title('24 h',size=24,pad=10)\n",
    "\n",
    "plt.tight_layout()\n",
    "\n",
    "#plt.savefig('ATP_0h-vs-T2fromAODAPI-set2-norm2.png',dpi=300)\n",
    "plt.savefig('ATP_24h-vs-T2fromAODAPI-set1-fits.png',dpi=300)"
   ]
  },
  {
   "cell_type": "code",
   "execution_count": null,
   "metadata": {},
   "outputs": [],
   "source": []
  }
 ],
 "metadata": {
  "kernelspec": {
   "display_name": "Python 3",
   "language": "python",
   "name": "python3"
  },
  "language_info": {
   "codemirror_mode": {
    "name": "ipython",
    "version": 3
   },
   "file_extension": ".py",
   "mimetype": "text/x-python",
   "name": "python",
   "nbconvert_exporter": "python",
   "pygments_lexer": "ipython3",
   "version": "3.7.3"
  }
 },
 "nbformat": 4,
 "nbformat_minor": 4
}
