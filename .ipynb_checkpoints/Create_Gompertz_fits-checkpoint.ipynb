{
 "cells": [
  {
   "cell_type": "markdown",
   "metadata": {},
   "source": [
    "# Model proliferation data with Gompertz law"
   ]
  },
  {
   "cell_type": "markdown",
   "metadata": {},
   "source": [
    "### Live cell population growth is modeled using the Gompertz law: $N = k e^{-e^{a-bt}}$"
   ]
  },
  {
   "cell_type": "markdown",
   "metadata": {},
   "source": [
    "$k$ - Carrying capacity\n",
    "\n",
    "$a$ - Offset for the onset of exponential growth\n",
    "\n",
    "$b$ - Growth rate constant"
   ]
  },
  {
   "cell_type": "code",
   "execution_count": 1,
   "metadata": {},
   "outputs": [],
   "source": [
    "import sys,os\n",
    "import numpy as np\n",
    "import pandas as pd\n",
    "import scipy.optimize as optim\n",
    "import functions\n",
    "import glob\n",
    "from scipy.stats import gamma\n",
    "import math\n",
    "import matplotlib.pyplot as plt\n",
    "from matplotlib import rcParams"
   ]
  },
  {
   "cell_type": "markdown",
   "metadata": {},
   "source": [
    "**Specify study name and the casename (prefix for the proliferation data files). Read proliferation trajectories for all treatment times.**"
   ]
  },
  {
   "cell_type": "code",
   "execution_count": 2,
   "metadata": {},
   "outputs": [],
   "source": [
    "cwd = os.getcwd()\n",
    "\n",
    "studyname = 'Study1'\n",
    "\n",
    "data_directory = './data/' + studyname\n",
    "os.chdir(data_directory)\n",
    "\n",
    "casename = 'growth_'\n",
    "\n",
    "data_files = glob.glob(casename+'*.csv')\n",
    "\n",
    "\n",
    "all_files = {}\n",
    "times = []\n",
    "\n",
    "for ff in data_files:\n",
    "    t = float(ff.lstrip(casename).rstrip('.csv'))\n",
    "    times.append(t)\n",
    "    all_files[int(t)] = ff\n",
    "\n",
    "times.sort()"
   ]
  },
  {
   "cell_type": "markdown",
   "metadata": {},
   "source": [
    "**Fit proliferation data with Gompertz model and obtain the errors in parameter estimation.** "
   ]
  },
  {
   "cell_type": "code",
   "execution_count": 3,
   "metadata": {},
   "outputs": [],
   "source": [
    "p_array = np.zeros(shape=(len(data_files),10))\n",
    "column_names = ['T','k','kerr1','kerr2','a','aerr1','aerr2','b','berr1','berr2']\n",
    "parameters = pd.DataFrame(p_array,index=[i for i in range(0,len(data_files))],columns=column_names)\n",
    "\n",
    "column_names = ['CT','T1','T1err1','T1err2','T2','T2err1','T2err2']\n",
    "inflection_times = pd.DataFrame(np.zeros(shape=(len(data_files),7)),index=[i for i in range(0,len(data_files))],columns=column_names)\n",
    "\n",
    "for idx in range(0,len(times)):\n",
    "    t = times[idx]\n",
    "    filename = all_files[int(t)]\n",
    "\n",
    "    pop_series = pd.read_csv(filename)\n",
    "\n",
    "    time_array = pop_series['Time (h)'].to_numpy()\n",
    "    time_array = time_array.astype(float)\n",
    "    time_size = time_array.shape[0]\n",
    "\n",
    "    stack_size = time_size*(len(pop_series.columns.values)-1)\n",
    "\n",
    "    time_stack = np.zeros(stack_size,)\n",
    "    data_stack = np.zeros(stack_size,)\n",
    "\n",
    "    time_l, data_l = [], []\n",
    "\n",
    "    ik = 0\n",
    "\n",
    "    n = len(pop_series.columns) - 2\n",
    "\n",
    "    for col in pop_series.columns.values[1:]:\n",
    "        this_data = pop_series[col].to_numpy()\n",
    "\n",
    "        for p in range(0,this_data.shape[0]):\n",
    "            if this_data[p]==this_data[p]:\n",
    "                time_l.append(time_array[p])\n",
    "                data_l.append(this_data[p])\n",
    "\n",
    "    time_stack = np.array(time_l)\n",
    "    data_stack = np.array(data_l)\n",
    "\n",
    "    max_d = np.max(data_stack)\n",
    "\n",
    "    max_inf_time = time_l[data_l.index(max_d)]\n",
    "\n",
    "    m_d = max(data_l)\n",
    "    t_inf = time_l[data_l.index(m_d)]\n",
    "\n",
    "    check = 1\n",
    "    iter = 0\n",
    "\n",
    "    k_up, k_low = 2.0*m_d, 0.0\n",
    "    b_up, b_low = 1.0/(time_array[1]-time_array[0]), 1.0/(time_array[-1]-time_array[0])\n",
    "    a_up, a_low = max_inf_time*b_up, 0.0\n",
    "\n",
    "\n",
    "    while check==1:\n",
    "        all_bounds = (np.array([k_low,a_low,b_low]),np.array([k_up,a_up,b_up]))\n",
    "\n",
    "        popt, pcov = optim.curve_fit(functions.gompertz,time_stack,data_stack,bounds=all_bounds)\n",
    "        perr = np.sqrt(np.diag(pcov))\n",
    "\n",
    "        check = 0\n",
    "\n",
    "        iter += 1\n",
    "\n",
    "    parameters.loc[idx,'T'] = t\n",
    "    parameters.loc[idx,'k'] = popt[0]\n",
    "    parameters.loc[idx,'a'] = popt[1]\n",
    "    parameters.loc[idx,'b'] = popt[2]\n",
    "    parameters.loc[idx,'kerr1'] = perr[0]\n",
    "    parameters.loc[idx,'aerr1'] = perr[1]\n",
    "    parameters.loc[idx,'berr1'] = perr[2]\n",
    "    parameters.loc[idx,'kerr2'] = perr[0]\n",
    "    parameters.loc[idx,'aerr2'] = perr[1]\n",
    "    parameters.loc[idx,'berr2'] = perr[2]\n",
    "\n",
    "    times_set = np.linspace(1,1000,10000)\n",
    "\n",
    "    t1, t2 = functions.compute_gompertz_inflections(times_set,popt[0],popt[1],popt[2])\n",
    "    \n",
    "    inflection_times.loc[idx,'CT'] = t\n",
    "    inflection_times.loc[idx,'T1'] = t1\n",
    "    inflection_times.loc[idx,'T2'] = t2\n",
    "\n",
    "    T1_error = t1*(abs(perr[1]/popt[1]) + abs(perr[2]/popt[2]))\n",
    "\n",
    "    up, low = functions.get_CI(t1,T1_error)\n",
    "    \n",
    "    inflection_times.loc[idx,'T1err1'] = up\n",
    "    inflection_times.loc[idx,'T1err2'] = min(low,t1)\n",
    "\n",
    "    T2_error = t2*(abs(perr[1]/popt[1]) + abs(perr[2]/popt[2]))\n",
    "\n",
    "    up, low = functions.get_CI(t2,T2_error)\n",
    "    \n",
    "    inflection_times.loc[idx,'T2err1'] = up\n",
    "    inflection_times.loc[idx,'T2err2'] = min(low,t2)\n",
    "\n",
    "    rate_times = np.linspace(0.0,np.max(time_array),200)\n",
    "    fit_N = functions.gompertz(rate_times,popt[0],popt[1],popt[2])\n",
    "\n",
    "    total_data = np.zeros(shape=(rate_times.shape[0],2))\n",
    "    total_data[:,0] = rate_times\n",
    "    total_data[:,1] = fit_N\n",
    "\n",
    "    np.savetxt('fit_'+filename,total_data,delimiter=',')"
   ]
  },
  {
   "cell_type": "code",
   "execution_count": 4,
   "metadata": {},
   "outputs": [],
   "source": [
    "parameters.rename(columns={'kerr1': '+','aerr1': '+', 'berr1': '+'}, inplace=True)\n",
    "parameters.rename(columns={'kerr2': '-','aerr2': '-', 'berr2': '-'}, inplace=True)\n",
    "\n",
    "inflection_times.rename(columns={'T1err1': '+','T1err2': '-'}, inplace=True)\n",
    "inflection_times.rename(columns={'T2err1': '+','T2err2': '-'}, inplace=True)\n",
    "\n",
    "parameters.to_csv('gompertz_parameter_summary.csv',index=None)\n",
    "inflection_times.to_csv('gompertz_inflection_points_summary.csv',index=None)"
   ]
  },
  {
   "cell_type": "markdown",
   "metadata": {},
   "source": [
    "**Read and plot all proliferation results.**"
   ]
  },
  {
   "cell_type": "code",
   "execution_count": 5,
   "metadata": {},
   "outputs": [],
   "source": [
    "data_files = glob.glob(casename+'*.csv')\n",
    "\n",
    "fit_data_files = glob.glob('fit_'+casename+'*.csv')"
   ]
  },
  {
   "cell_type": "code",
   "execution_count": 6,
   "metadata": {},
   "outputs": [],
   "source": [
    "all_files = {}\n",
    "times = []\n",
    "\n",
    "for ff in data_files:\n",
    "    t = float(ff.lstrip(casename).rstrip('.csv'))\n",
    "    times.append(int(t))\n",
    "    all_files[int(t)] = ff\n",
    "\n",
    "times.sort()"
   ]
  },
  {
   "cell_type": "code",
   "execution_count": 7,
   "metadata": {},
   "outputs": [],
   "source": [
    "ori_data = []\n",
    "fit_data = []\n",
    "\n",
    "for t in times:\n",
    "    ori_data.append(pd.read_csv(casename+str(t)+'.csv').to_numpy())\n",
    "    fit_data.append(pd.read_csv('fit_'+casename+str(t)+'.csv',header=None).to_numpy())"
   ]
  },
  {
   "cell_type": "code",
   "execution_count": 8,
   "metadata": {},
   "outputs": [
    {
     "data": {
      "image/png": "[encoded data removed]",
      "text/plain": [
       "<Figure size 576x432 with 1 Axes>"
      ]
     },
     "metadata": {
      "needs_background": "light"
     },
     "output_type": "display_data"
    }
   ],
   "source": [
    "fig, axs = plt.subplots(figsize=(8,6))\n",
    "\n",
    "rcParams['font.family'] = 'sans-serif'\n",
    "rcParams['font.sans-serif'] = ['Times New Roman']\n",
    "\n",
    "color_list = ['r','g','b','#000000','#8822ff','#999911','teal','#985341']\n",
    "marker_list = ['o','D','X','^','v','s','P','*']\n",
    "\n",
    "for i in range(0,len(times)):\n",
    "    c = color_list[i]\n",
    "    plt.plot(ori_data[i][:,0],ori_data[i][:,1],marker=marker_list[i],ms=8,color=c,alpha=0.7,linewidth=0,label=r'$T_{H}= $'+str(times[i]))\n",
    "    plt.plot(fit_data[i][:,0],fit_data[i][:,1],linewidth=3,color=c,alpha=0.7)\n",
    "    \n",
    "plt.xticks(size=18)\n",
    "plt.yticks(size=18)  \n",
    "plt.xlabel(r'Time, $t$ (h)',size=20)\n",
    "plt.ylabel(r'$N$',size=20,rotation=0,labelpad=15)\n",
    "plt.xlim(0,600)\n",
    "plt.ylim(0,6000000)\n",
    "plt.legend(frameon=False,prop={'size': 16},markerscale=1.25,handlelength=1.0)\n",
    "plt.tight_layout()\n",
    "\n",
    "#plt.savefig(studyname+'-gompertz.png',dpi=300)\n",
    "\n",
    "os.chdir(cwd)"
   ]
  },
  {
   "cell_type": "code",
   "execution_count": null,
   "metadata": {},
   "outputs": [],
   "source": []
  }
 ],
 "metadata": {
  "kernelspec": {
   "display_name": "Python 3",
   "language": "python",
   "name": "python3"
  },
  "language_info": {
   "codemirror_mode": {
    "name": "ipython",
    "version": 3
   },
   "file_extension": ".py",
   "mimetype": "text/x-python",
   "name": "python",
   "nbconvert_exporter": "python",
   "pygments_lexer": "ipython3",
   "version": "3.7.3"
  }
 },
 "nbformat": 4,
 "nbformat_minor": 4
}
