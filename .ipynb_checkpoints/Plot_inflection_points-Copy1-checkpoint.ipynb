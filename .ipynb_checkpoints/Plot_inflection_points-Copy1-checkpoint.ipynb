{
 "cells": [
  {
   "cell_type": "markdown",
   "metadata": {},
   "source": [
    "# Analysis of inflection points"
   ]
  },
  {
   "cell_type": "markdown",
   "metadata": {},
   "source": [
    "Determines the relationship between treatment time $\\mathrm{T_H}$ and the two inflection point times, $\\mathrm{T1}$ and $\\mathrm{T2}$, and also the relationship between the two inflection points."
   ]
  },
  {
   "cell_type": "code",
   "execution_count": 1,
   "metadata": {},
   "outputs": [],
   "source": [
    "import sys,os\n",
    "import numpy as np\n",
    "import pandas as pd\n",
    "import scipy.optimize as optim\n",
    "import functions\n",
    "import glob\n",
    "from scipy.stats import gamma\n",
    "import math\n",
    "import matplotlib.pyplot as plt\n",
    "from matplotlib import rcParams\n",
    "import scipy.stats as st\n",
    "import matplotlib.font_manager as font_manager\n",
    "from scipy.stats import t"
   ]
  },
  {
   "cell_type": "code",
   "execution_count": 2,
   "metadata": {},
   "outputs": [],
   "source": [
    "data_directory = './data/'\n",
    "os.chdir(data_directory)\n",
    "cwd = os.getcwd()\n",
    "\n",
    "studies = glob.glob('Study*')\n",
    "studies.sort()"
   ]
  },
  {
   "cell_type": "code",
   "execution_count": 3,
   "metadata": {},
   "outputs": [
    {
     "name": "stdout",
     "output_type": "stream",
     "text": [
      "Degrees of freedom:  26\n"
     ]
    }
   ],
   "source": [
    "inflection_points = {}\n",
    "dof = -2 # Two parameters in the linear models\n",
    "\n",
    "for s in studies:\n",
    "    os.chdir(s)\n",
    "    \n",
    "    inflection_points[s] = pd.read_csv('gompertz_inflection_points_summary.csv')\n",
    "    \n",
    "    dof += len(inflection_points[s]['CT'])\n",
    "    \n",
    "    os.chdir(cwd)\n",
    "    \n",
    "print('Degrees of freedom: ',dof)"
   ]
  },
  {
   "cell_type": "code",
   "execution_count": 4,
   "metadata": {},
   "outputs": [
    {
     "name": "stdout",
     "output_type": "stream",
     "text": [
      "[[   28.   460.]\n",
      " [  460. 14450.]]\n",
      "[[ 3142.39423945]\n",
      " [86249.21242185]]\n",
      "[[ 1.  0.]\n",
      " [ 1.  5.]\n",
      " [ 1. 10.]\n",
      " [ 1. 15.]\n",
      " [ 1. 20.]\n",
      " [ 1. 30.]\n",
      " [ 1. 60.]\n",
      " [ 1.  0.]\n",
      " [ 1.  5.]\n",
      " [ 1. 10.]\n",
      " [ 1. 15.]\n",
      " [ 1. 20.]\n",
      " [ 1. 30.]\n",
      " [ 1. 60.]\n",
      " [ 1.  0.]\n",
      " [ 1.  5.]\n",
      " [ 1. 10.]\n",
      " [ 1. 15.]\n",
      " [ 1. 20.]\n",
      " [ 1. 30.]\n",
      " [ 1.  0.]\n",
      " [ 1.  5.]\n",
      " [ 1. 15.]\n",
      " [ 1. 30.]\n",
      " [ 1.  0.]\n",
      " [ 1.  5.]\n",
      " [ 1. 15.]\n",
      " [ 1. 30.]]\n"
     ]
    }
   ],
   "source": [
    "A = np.ones(shape=(dof+2,2))\n",
    "b = np.zeros(shape=(dof+2,1))\n",
    "\n",
    "k = 0\n",
    "\n",
    "for s in studies:\n",
    "    os.chdir(s)\n",
    "    \n",
    "    inflection_points[s] = pd.read_csv('gompertz_inflection_points_summary.csv')\n",
    "    \n",
    "    for a,aa in zip(inflection_points[s]['CT'],inflection_points[s]['T1']):\n",
    "        #if a<60.0:\n",
    "        A[k,1] = a\n",
    "        b[k] = aa\n",
    "\n",
    "        k+= 1\n",
    "\n",
    "    os.chdir(cwd)\n",
    "    \n",
    "r = np.dot(np.transpose(A),b)\n",
    "\n",
    "ATA = np.dot(np.transpose(A),A)\n",
    "\n",
    "print(ATA)\n",
    "\n",
    "iATA = np.linalg.inv(ATA)\n",
    "\n",
    "print(r)\n",
    "\n",
    "p = np.dot(iATA,r)\n",
    "\n",
    "p\n",
    "\n",
    "print(A)"
   ]
  },
  {
   "cell_type": "code",
   "execution_count": 5,
   "metadata": {},
   "outputs": [
    {
     "name": "stdout",
     "output_type": "stream",
     "text": [
      "2.0555294386428713\n"
     ]
    }
   ],
   "source": [
    "tinv = lambda p, df: abs(t.ppf(p/2,df))\n",
    "ts = tinv(0.05,dof)\n",
    "print(ts)"
   ]
  },
  {
   "cell_type": "markdown",
   "metadata": {},
   "source": [
    "**Relationship between $\\mathrm{T_H}$ and $\\mathrm{T1}$.**"
   ]
  },
  {
   "cell_type": "code",
   "execution_count": 6,
   "metadata": {},
   "outputs": [
    {
     "data": {
      "text/plain": [
       "LinregressResult(slope=5.023194806546836, intercept=29.70445101576523, rvalue=0.9613495754354037, pvalue=2.1944412526757792e-16, stderr=0.2821412886107889, intercept_stderr=6.409461651055753)"
      ]
     },
     "execution_count": 6,
     "metadata": {},
     "output_type": "execute_result"
    }
   ],
   "source": [
    "# Correlation coefficient\n",
    "\n",
    "res = functions.fit_data(inflection_points,'CT','T1')\n",
    "\n",
    "s_err = ts*res.stderr\n",
    "i_err = ts*res.intercept_stderr\n",
    "\n",
    "print(res.slope,res.intercept)"
   ]
  },
  {
   "cell_type": "code",
   "execution_count": 7,
   "metadata": {},
   "outputs": [
    {
     "name": "stdout",
     "output_type": "stream",
     "text": [
      "┌─────────────────────────────────────────────────────────────────────────┐\n",
      "│                                Migrad                                   │\n",
      "├──────────────────────────────────┬──────────────────────────────────────┤\n",
      "│ FCN = 1.427e+04 (chi2/ndof = 548.7)│              Nfcn = 31               │\n",
      "│ EDM = 2.23e-19 (Goal: 0.0002)    │                                      │\n",
      "├──────────────────────────────────┼──────────────────────────────────────┤\n",
      "│          Valid Minimum           │        No Parameters at limit        │\n",
      "├──────────────────────────────────┼──────────────────────────────────────┤\n",
      "│ Below EDM threshold (goal x 10)  │           Below call limit           │\n",
      "├───────────────┬──────────────────┼───────────┬─────────────┬────────────┤\n",
      "│  Covariance   │     Hesse ok     │ Accurate  │  Pos. def.  │ Not forced │\n",
      "└───────────────┴──────────────────┴───────────┴─────────────┴────────────┘\n",
      "┌───┬──────┬───────────┬───────────┬────────────┬────────────┬─────────┬─────────┬───────┐\n",
      "│   │ Name │   Value   │ Hesse Err │ Minos Err- │ Minos Err+ │ Limit-  │ Limit+  │ Fixed │\n",
      "├───┼──────┼───────────┼───────────┼────────────┼────────────┼─────────┼─────────┼───────┤\n",
      "│ 0 │ a    │   5.023   │   0.012   │            │            │         │         │       │\n",
      "│ 1 │ b    │   29.70   │   0.27    │            │            │         │         │       │\n",
      "└───┴──────┴───────────┴───────────┴────────────┴────────────┴─────────┴─────────┴───────┘\n",
      "┌───┬───────────────────┐\n",
      "│   │        a        b │\n",
      "├───┼───────────────────┤\n",
      "│ a │ 0.000145 -0.00238 │\n",
      "│ b │ -0.00238   0.0749 │\n",
      "└───┴───────────────────┘\n",
      "14266.12144343156\n",
      "<ErrorView a=0.012044820958099873 b=0.27362466982131756>\n",
      "┌───┬──────┬───────────┬───────────┬────────────┬────────────┬─────────┬─────────┬───────┐\n",
      "│   │ Name │   Value   │ Hesse Err │ Minos Err- │ Minos Err+ │ Limit-  │ Limit+  │ Fixed │\n",
      "├───┼──────┼───────────┼───────────┼────────────┼────────────┼─────────┼─────────┼───────┤\n",
      "│ 0 │ a    │   5.023   │   0.012   │   -0.012   │   0.012    │         │         │       │\n",
      "│ 1 │ b    │   29.70   │   0.27    │   -0.27    │    0.27    │         │         │       │\n",
      "└───┴──────┴───────────┴───────────┴────────────┴────────────┴─────────┴─────────┴───────┘\n"
     ]
    }
   ],
   "source": [
    "fitname = r'T1 = $(' + str(round(res.slope,2)) + '\\pm ' + str(round(s_err,2)) + ')\\mathrm{T_H} + ' \n",
    "fitname += '(' + str(round(res.intercept,2)) + '\\pm ' + str(round(i_err,2)) + ')$'\n",
    "\n",
    "x = np.linspace(0,80,100)\n",
    "y = res.slope*x + res.intercept\n",
    "\n",
    "r_text = r'$\\mathrm{R}^2 = ' + str(round(res.rvalue**2,3)) + '$'\n",
    "\n",
    "reduced_chi = functions.reduced_chi_square(inflection_points,'CT','T1',res.slope,res.intercept)\n",
    "pearson_chi = functions.pearson_chi_square(inflection_points,'CT','T1',res.slope,res.intercept)\n",
    "slope, intercept = functions.lsq(inflection_points,'CT','T1',res.slope,res.intercept)\n",
    "\n",
    "#print(slope.value,intercept.value)\n",
    "\n",
    "y2 = slope.value*x + intercept.value\n",
    "\n",
    "reduced_chi_text = r'$\\sqrt{\\mathrm{Reduced} \\; \\chi^2}$ = '+str(round(reduced_chi,2))+' h'"
   ]
  },
  {
   "cell_type": "code",
   "execution_count": 8,
   "metadata": {},
   "outputs": [
    {
     "data": {
      "image/png": "[encoded data removed]",
      "text/plain": [
       "<Figure size 576x576 with 1 Axes>"
      ]
     },
     "metadata": {
      "needs_background": "light"
     },
     "output_type": "display_data"
    }
   ],
   "source": [
    "fig, axs = plt.subplots(figsize=(8,8))\n",
    "\n",
    "rcParams['font.family'] = 'sans-serif'\n",
    "rcParams['font.sans-serif'] = ['Times New Roman']\n",
    "\n",
    "marker_list = {'Study1':'o','Study2':'D','Study3':'s','Study4':'X','Study5':'P'}\n",
    "\n",
    "for s in studies:\n",
    "    labelname = s.replace('Study','Study ')\n",
    "    plt.plot(inflection_points[s]['CT'],inflection_points[s]['T1'],marker=marker_list[s],ms=10,color='black',alpha=0.6,linewidth=0,label=labelname)\n",
    "\n",
    "plt.plot(x,y2,linewidth=4,color='#880000',alpha=0.5,label=fitname)\n",
    "plt.plot(x,y,linewidth=4,color='#000088',alpha=0.5)#,label=fitname)\n",
    "\n",
    "plt.text(55,110,r_text,fontsize=22)\n",
    "plt.text(35,60,reduced_chi_text,fontsize=22)\n",
    "    \n",
    "plt.xticks(size=22)\n",
    "plt.yticks(size=22)  \n",
    "plt.xlabel(r'Treatment time, $\\mathrm{T_H}$ (h)',size=22,labelpad=10)\n",
    "plt.ylabel(r'Inflection point, T1 (h)',size=22,rotation=90,labelpad=10)\n",
    "plt.xlim(-2,80)\n",
    "plt.ylim(0,500)\n",
    "plt.legend(frameon=False,prop={'size': 17,'family':'Times New Roman'},markerscale=1.25,handlelength=1.0,loc='upper left')\n",
    "plt.tight_layout()\n",
    "\n",
    "plt.savefig('THT1.png',dpi=300)"
   ]
  },
  {
   "cell_type": "markdown",
   "metadata": {},
   "source": [
    "**Relationship between $\\mathrm{T_H}$ and $\\mathrm{T2}$.**"
   ]
  },
  {
   "cell_type": "code",
   "execution_count": null,
   "metadata": {},
   "outputs": [],
   "source": [
    "res = functions.fit_data(inflection_points,'CT','T2')\n",
    "\n",
    "s_err = ts*res.stderr\n",
    "i_err = ts*res.intercept_stderr"
   ]
  },
  {
   "cell_type": "code",
   "execution_count": null,
   "metadata": {},
   "outputs": [],
   "source": [
    "fitname = r'$\\mathrm{T2} = (' + str(round(res.slope,2)) + '\\pm ' + str(round(s_err,2)) + ')\\mathrm{T_H} + ' \n",
    "fitname += '(' + str(round(res.intercept,2)) + '\\pm ' + str(round(i_err,2)) + ')$'\n",
    "\n",
    "x = np.linspace(0,80,100)\n",
    "y = res.slope*x + res.intercept\n",
    "\n",
    "r_text = r'$\\mathrm{R}^2 = ' + str(round(res.rvalue**2,3)) + '$'\n",
    "\n",
    "reduced_chi = functions.reduced_chi_square(inflection_points,'CT','T2',res.slope,res.intercept)\n",
    "functions.lsq(inflection_points,'CT','T2',res.slope,res.intercept)\n",
    "\n",
    "reduced_chi_text = r'$\\sqrt{\\mathrm{Reduced} \\; \\chi^2}$ = '+str(round(reduced_chi,2))+' h'"
   ]
  },
  {
   "cell_type": "code",
   "execution_count": null,
   "metadata": {},
   "outputs": [],
   "source": [
    "fig, axs = plt.subplots(figsize=(8,8))\n",
    "\n",
    "rcParams['font.family'] = 'sans-serif'\n",
    "rcParams['font.sans-serif'] = ['Times New Roman']\n",
    "\n",
    "marker_list = {'Study1':'o','Study2':'D','Study3':'s','Study4':'X','Study5':'P'}\n",
    "\n",
    "for s in studies:\n",
    "    labelname = s.replace('Study','Study ')\n",
    "    plt.plot(inflection_points[s]['CT'],inflection_points[s]['T2'],marker=marker_list[s],ms=10,color='black',alpha=0.6,linewidth=0)\n",
    "\n",
    "plt.plot(x,y,linewidth=4,color='#880000',alpha=0.5,label=fitname)\n",
    "\n",
    "plt.text(55,110,r_text,fontsize=22)\n",
    "plt.text(35,60,reduced_chi_text,fontsize=22)\n",
    "    \n",
    "plt.xticks(size=22)\n",
    "plt.yticks(size=22)  \n",
    "plt.xlabel(r'Treatment time, $\\mathrm{T_H}$ (h)',size=22,labelpad=10)\n",
    "plt.ylabel(r'Inflection point, T2 (h)',size=22,rotation=90,labelpad=10)\n",
    "plt.xlim(-2,80)\n",
    "plt.ylim(0,500)\n",
    "plt.legend(frameon=False,prop={'size': 17,'family':'Times New Roman'},markerscale=1.25,handlelength=1.0,loc='lower right')\n",
    "plt.tight_layout()\n",
    "plt.savefig('THT2.png',dpi=300)"
   ]
  },
  {
   "cell_type": "markdown",
   "metadata": {},
   "source": [
    "**Relationship between $\\mathrm{T1}$ and $\\mathrm{T2}$.**"
   ]
  },
  {
   "cell_type": "code",
   "execution_count": null,
   "metadata": {},
   "outputs": [],
   "source": [
    "res = functions.fit_data(inflection_points,'T1','T2')\n",
    "\n",
    "s_err = ts*res.stderr\n",
    "i_err = ts*res.intercept_stderr"
   ]
  },
  {
   "cell_type": "code",
   "execution_count": null,
   "metadata": {},
   "outputs": [],
   "source": [
    "fitname = r'$\\mathrm{T2} = (' + str(round(res.slope,2)) + '\\pm ' + str(round(s_err,2)) + ')\\mathrm{T1} + ' \n",
    "fitname += '(' + str(round(res.intercept,2)) + '\\pm ' + str(round(i_err,2)) + ')$'\n",
    "\n",
    "x = np.linspace(0,600,100)\n",
    "y = res.slope*x + res.intercept\n",
    "\n",
    "r_text = r'$\\mathrm{R}^2 = ' + str(round(res.rvalue**2,3)) + '$'\n",
    "\n",
    "reduced_chi = functions.reduced_chi_square(inflection_points,'T1','T2',res.slope,res.intercept)\n",
    "functions.lsq(inflection_points,'CT','T2',res.slope,res.intercept)\n",
    "\n",
    "reduced_chi_text = r'$\\sqrt{\\mathrm{Reduced} \\; \\chi^2}$ = '+str(round(reduced_chi,2))+' h'"
   ]
  },
  {
   "cell_type": "code",
   "execution_count": null,
   "metadata": {},
   "outputs": [],
   "source": [
    "fig, axs = plt.subplots(figsize=(8,8))\n",
    "\n",
    "rcParams['font.family'] = 'sans-serif'\n",
    "rcParams['font.sans-serif'] = ['Times New Roman']\n",
    "\n",
    "marker_list = {'Study1':'o','Study2':'D','Study3':'s','Study4':'X','Study5':'P'}\n",
    "\n",
    "for s in studies:\n",
    "    labelname = s.replace('Study','Study ')\n",
    "    plt.plot(inflection_points[s]['T1'],inflection_points[s]['T2'],marker=marker_list[s],ms=10,color='black',alpha=0.6,linewidth=0)\n",
    "\n",
    "plt.plot(x,y,linewidth=4,color='#880000',alpha=0.5,label=fitname)\n",
    "plt.text(380,100,r_text,fontsize=17)\n",
    "plt.text(300,60,reduced_chi_text,fontsize=17)\n",
    "    \n",
    "plt.xticks(size=22)\n",
    "plt.yticks(size=22)  \n",
    "plt.xlabel('Inflection point, T1 (h)',size=22,labelpad=10)\n",
    "plt.ylabel('Inflection point, T2 (h)',size=22,rotation=90,labelpad=10)\n",
    "plt.xlim(0,500)\n",
    "plt.ylim(0,500)\n",
    "plt.legend(frameon=False,prop={'size': 17,'family':'Times New Roman'},markerscale=1.25,handlelength=1.0,loc='lower right')\n",
    "plt.tight_layout()\n",
    "plt.savefig('T1T2.png',dpi=300)"
   ]
  },
  {
   "cell_type": "code",
   "execution_count": null,
   "metadata": {},
   "outputs": [],
   "source": []
  }
 ],
 "metadata": {
  "kernelspec": {
   "display_name": "Python 3",
   "language": "python",
   "name": "python3"
  },
  "language_info": {
   "codemirror_mode": {
    "name": "ipython",
    "version": 3
   },
   "file_extension": ".py",
   "mimetype": "text/x-python",
   "name": "python",
   "nbconvert_exporter": "python",
   "pygments_lexer": "ipython3",
   "version": "3.7.3"
  }
 },
 "nbformat": 4,
 "nbformat_minor": 4
}
