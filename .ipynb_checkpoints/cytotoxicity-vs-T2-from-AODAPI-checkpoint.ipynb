{
 "cells": [
  {
   "cell_type": "code",
   "execution_count": 1,
   "metadata": {},
   "outputs": [],
   "source": [
    "import numpy as np\n",
    "import scipy.optimize as optim\n",
    "import math\n",
    "import os,sys\n",
    "import pandas as pd\n",
    "import copy\n",
    "import matplotlib.pyplot as plt\n",
    "from matplotlib import rcParams\n",
    "import scipy.stats as st\n",
    "from scipy.stats import t\n",
    "import random as rand\n",
    "\n",
    "from sklearn.metrics import auc\n",
    "\n",
    "import copy"
   ]
  },
  {
   "cell_type": "code",
   "execution_count": 2,
   "metadata": {},
   "outputs": [],
   "source": [
    "def linear(x,a,b):\n",
    "    return (a + b*x)"
   ]
  },
  {
   "cell_type": "code",
   "execution_count": 3,
   "metadata": {},
   "outputs": [],
   "source": [
    "def nonlinear(x,a,b):\n",
    "    return (np.exp(a + b*x))\n",
    "    #return (a + b*np.power(x,c))"
   ]
  },
  {
   "cell_type": "code",
   "execution_count": 4,
   "metadata": {},
   "outputs": [],
   "source": [
    "data_folder = './data/LDHcytotoxicity'\n",
    "os.chdir(data_folder)"
   ]
  },
  {
   "cell_type": "code",
   "execution_count": 5,
   "metadata": {},
   "outputs": [],
   "source": [
    "LDH24 = pd.read_csv('cytotoxicity_data-day1.csv')"
   ]
  },
  {
   "cell_type": "code",
   "execution_count": 6,
   "metadata": {},
   "outputs": [],
   "source": [
    "tags = ['18','20','22','24']\n",
    "\n",
    "weight1 = pd.Series([0.2, 0.3, 0.4, 0.5, 0.6, 0.7, 0.8, 0.95])\n",
    "colors1 = weight1.apply(lambda x: (0,0,0,x)).tolist()"
   ]
  },
  {
   "cell_type": "code",
   "execution_count": 7,
   "metadata": {},
   "outputs": [],
   "source": [
    "all_data = {}\n",
    "\n",
    "for tag in tags:\n",
    "    all_data['Assay'+tag] = LDH24['Assay'+tag].to_numpy()\n",
    "    all_data['T2-'+tag] = 85.77*np.power(LDH24['AODAPI'+tag].to_numpy()/100,-1.7)\n",
    "    \n",
    "    #all_data['T2-'+tag] = 2.53*v24['TH'].to_numpy() + 84"
   ]
  },
  {
   "cell_type": "code",
   "execution_count": 8,
   "metadata": {},
   "outputs": [],
   "source": [
    "cytos, t2s = [], []\n",
    "\n",
    "for tag in tags:\n",
    "    for a,b in zip(all_data['Assay'+tag],all_data['T2-'+tag]):\n",
    "        cytos.append(a)\n",
    "        t2s.append(b)   "
   ]
  },
  {
   "cell_type": "code",
   "execution_count": 9,
   "metadata": {},
   "outputs": [
    {
     "name": "stdout",
     "output_type": "stream",
     "text": [
      "2.042272456301238\n"
     ]
    }
   ],
   "source": [
    "dof = len(t2s) - 2\n",
    "    \n",
    "tinv = lambda p, df: abs(t.ppf(p/2,df))\n",
    "ts = tinv(0.05,dof)\n",
    "\n",
    "print(ts)"
   ]
  },
  {
   "cell_type": "code",
   "execution_count": 10,
   "metadata": {},
   "outputs": [],
   "source": [
    "results = optim.curve_fit(nonlinear,cytos,t2s,absolute_sigma=False,full_output=True)\n",
    "\n",
    "popt, pcov = results[0], results[1]\n",
    "\n",
    "fitname = r'T2$_{\\mathrm{est}}$ = exp(' + str(round(popt[0],3)) + '+' + str(round(popt[1],3)) +'%$C$)'"
   ]
  },
  {
   "cell_type": "code",
   "execution_count": 11,
   "metadata": {},
   "outputs": [],
   "source": [
    "mean_cyto = np.linspace(0.9*np.min(cytos),1.15*np.max(cytos),250)\n",
    "mean_t2 = nonlinear(mean_cyto,popt[0],popt[1])"
   ]
  },
  {
   "cell_type": "code",
   "execution_count": 12,
   "metadata": {},
   "outputs": [],
   "source": [
    "residual = nonlinear(np.array(cytos),popt[0],popt[1]) - np.array(t2s)\n",
    "norm_RSS = math.sqrt(np.dot(residual,residual)/(len(t2s)-2))\n",
    "\n",
    "RSS_text = r's.d. = ' + str(round(norm_RSS,2)) + ' h'"
   ]
  },
  {
   "cell_type": "code",
   "execution_count": 13,
   "metadata": {},
   "outputs": [],
   "source": [
    "n_samples = 10000\n",
    "\n",
    "s_is, i_is = [], []\n",
    "\n",
    "cit2_up = np.zeros(shape=mean_cyto.shape)\n",
    "cit2_low = np.zeros(shape=mean_cyto.shape)\n",
    "\n",
    "pbt2_up = np.zeros(shape=mean_cyto.shape)\n",
    "pbt2_low = np.zeros(shape=mean_cyto.shape)\n",
    "\n",
    "sigmat2_up = np.zeros(shape=mean_cyto.shape)\n",
    "sigmat2_low = np.zeros(shape=mean_cyto.shape)\n",
    "\n",
    "t2 = np.zeros(shape=mean_cyto.shape)\n",
    "effective_sigma = np.zeros(shape=mean_cyto.shape)\n",
    "\n",
    "for i in range(0,mean_cyto.shape[0]):\n",
    "    samples = []\n",
    "    \n",
    "    a_samples, b_samples = np.random.multivariate_normal(popt,pcov,n_samples).T\n",
    "    \n",
    "    t2[i] = nonlinear(mean_cyto[i],popt[0],popt[1])\n",
    "        \n",
    "    for a_sample,b_sample in zip(a_samples,b_samples):\n",
    "        samples.append(nonlinear(mean_cyto[i],a_sample,b_sample))\n",
    "        \n",
    "    sigma = np.std(samples)\n",
    "    \n",
    "    effective_sigma[i] = math.sqrt(sigma**2 + norm_RSS**2)\n",
    "    \n",
    "    ci95 = effective_sigma[i]*ts\n",
    "        \n",
    "    pbt2_low[i], pbt2_up[i] = t2[i] - ci95, t2[i] + ci95\n",
    "    \n",
    "    cit2_low[i], cit2_up[i] = t2[i] - sigma*ts, t2[i] + sigma*ts\n",
    "    \n",
    "    sigmat2_low[i], sigmat2_up[i] = t2[i] - effective_sigma[i], t2[i] + effective_sigma[i]"
   ]
  },
  {
   "cell_type": "code",
   "execution_count": 14,
   "metadata": {},
   "outputs": [
    {
     "name": "stdout",
     "output_type": "stream",
     "text": [
      "3.0478087647 87.429107098\n"
     ]
    },
    {
     "ename": "NameError",
     "evalue": "name 't2_up' is not defined",
     "output_type": "error",
     "traceback": [
      "\u001b[0;31m---------------------------------------------------------------------------\u001b[0m",
      "\u001b[0;31mNameError\u001b[0m                                 Traceback (most recent call last)",
      "\u001b[0;32m<ipython-input-14-d95f244d708e>\u001b[0m in \u001b[0;36m<module>\u001b[0;34m\u001b[0m\n\u001b[1;32m     21\u001b[0m \u001b[0mplt\u001b[0m\u001b[0;34m.\u001b[0m\u001b[0mplot\u001b[0m\u001b[0;34m(\u001b[0m\u001b[0;36m100\u001b[0m\u001b[0;34m-\u001b[0m\u001b[0mmean_cyto\u001b[0m\u001b[0;34m,\u001b[0m\u001b[0mmean_t2\u001b[0m\u001b[0;34m,\u001b[0m\u001b[0mlinewidth\u001b[0m\u001b[0;34m=\u001b[0m\u001b[0;36m4\u001b[0m\u001b[0;34m,\u001b[0m\u001b[0mcolor\u001b[0m\u001b[0;34m=\u001b[0m\u001b[0;34m'#660000'\u001b[0m\u001b[0;34m,\u001b[0m\u001b[0malpha\u001b[0m\u001b[0;34m=\u001b[0m\u001b[0;36m0.6\u001b[0m\u001b[0;34m)\u001b[0m\u001b[0;31m#,label=fitname)\u001b[0m\u001b[0;34m\u001b[0m\u001b[0;34m\u001b[0m\u001b[0m\n\u001b[1;32m     22\u001b[0m \u001b[0;34m\u001b[0m\u001b[0m\n\u001b[0;32m---> 23\u001b[0;31m \u001b[0mplt\u001b[0m\u001b[0;34m.\u001b[0m\u001b[0mfill_between\u001b[0m\u001b[0;34m(\u001b[0m\u001b[0;36m100\u001b[0m\u001b[0;34m-\u001b[0m\u001b[0mmean_cyto\u001b[0m\u001b[0;34m,\u001b[0m\u001b[0mt2_up\u001b[0m\u001b[0;34m,\u001b[0m\u001b[0mt2_low\u001b[0m\u001b[0;34m,\u001b[0m\u001b[0malpha\u001b[0m\u001b[0;34m=\u001b[0m\u001b[0;36m0.15\u001b[0m\u001b[0;34m,\u001b[0m\u001b[0mcolor\u001b[0m\u001b[0;34m=\u001b[0m\u001b[0;34m'#660000'\u001b[0m\u001b[0;34m,\u001b[0m\u001b[0mlinewidth\u001b[0m\u001b[0;34m=\u001b[0m\u001b[0;36m0.0\u001b[0m\u001b[0;34m)\u001b[0m\u001b[0;34m\u001b[0m\u001b[0;34m\u001b[0m\u001b[0m\n\u001b[0m\u001b[1;32m     24\u001b[0m \u001b[0mplt\u001b[0m\u001b[0;34m.\u001b[0m\u001b[0mfill_between\u001b[0m\u001b[0;34m(\u001b[0m\u001b[0;36m100\u001b[0m\u001b[0;34m-\u001b[0m\u001b[0mmean_cyto\u001b[0m\u001b[0;34m,\u001b[0m\u001b[0mrt2_up\u001b[0m\u001b[0;34m,\u001b[0m\u001b[0mrt2_low\u001b[0m\u001b[0;34m,\u001b[0m\u001b[0malpha\u001b[0m\u001b[0;34m=\u001b[0m\u001b[0;36m0.2\u001b[0m\u001b[0;34m,\u001b[0m\u001b[0mcolor\u001b[0m\u001b[0;34m=\u001b[0m\u001b[0;34m'#000088'\u001b[0m\u001b[0;34m,\u001b[0m\u001b[0mlinewidth\u001b[0m\u001b[0;34m=\u001b[0m\u001b[0;36m0.0\u001b[0m\u001b[0;34m)\u001b[0m\u001b[0;34m\u001b[0m\u001b[0;34m\u001b[0m\u001b[0m\n\u001b[1;32m     25\u001b[0m \u001b[0;34m\u001b[0m\u001b[0m\n",
      "\u001b[0;31mNameError\u001b[0m: name 't2_up' is not defined"
     ]
    },
    {
     "data": {
      "image/png": "[encoded data removed]",
      "text/plain": [
       "<Figure size 576x504 with 1 Axes>"
      ]
     },
     "metadata": {
      "needs_background": "light"
     },
     "output_type": "display_data"
    }
   ],
   "source": [
    "fig, axs = plt.subplots(figsize=(8,7))\n",
    "\n",
    "rcParams['font.family'] = 'sans-serif'\n",
    "rcParams['font.sans-serif'] = ['Times New Roman']\n",
    "\n",
    "markers = {'18':'o','20':'^','22':'X','24':'D'}\n",
    "\n",
    "for tag in tags:\n",
    "    plt.scatter(100-all_data['Assay'+tag],all_data['T2-'+tag],marker=markers[tag],linewidth=0,s=140,c=colors1)\n",
    "    \n",
    "    plt.scatter(100-all_data['Assay'+tag][-1],all_data['T2-'+tag][-1],marker=markers[tag],s=140,c='black',label='LDH '+tag)\n",
    "    \n",
    "plt.xticks(size=20)\n",
    "plt.yticks(size=20) \n",
    "\n",
    "#plt.xscale('log')\n",
    "#plt.yscale('log')\n",
    "\n",
    "print(np.min(mean_cyto),np.max(mean_cyto))\n",
    "\n",
    "plt.plot(100-mean_cyto,mean_t2,linewidth=4,color='#660000',alpha=0.6)#,label=fitname)\n",
    "\n",
    "plt.fill_between(100-mean_cyto,t2_up,t2_low,alpha=0.15,color='#660000',linewidth=0.0)\n",
    "plt.fill_between(100-mean_cyto,rt2_up,rt2_low,alpha=0.2,color='#000088',linewidth=0.0)\n",
    "\n",
    "plt.legend(frameon=False,prop={'size': 20},markerscale=1.0,handlelength=1.0,loc='best')\n",
    "\n",
    "plt.xlabel(r'Cytotoxicity, 100-LDH (%), 24 h',size=22)\n",
    "plt.ylabel(r'T2$_{\\mathrm{est}}$ (h)',size=22,rotation=90)\n",
    "\n",
    "plt.text(15,100,RSS_text,fontsize=20)\n",
    "plt.text(15,80,fitname,fontsize=22)\n",
    "\n",
    "#plt.savefig('cytotoxicity-day1-v2-TH.png',dpi=300)"
   ]
  },
  {
   "cell_type": "code",
   "execution_count": null,
   "metadata": {},
   "outputs": [],
   "source": [
    "#test_t2s = [96,108,120,132,144,156,168,180,192,204,216,228,240,252,264]\n",
    "test_t2s = [96,120,144,168,192,216,240,264]\n",
    "#test_t2s = [96,144,192,240]\n",
    "test_t2s.reverse()\n",
    "\n",
    "cutoff_probs = {}\n",
    "pdfs = {}\n",
    "cdfs = {}\n",
    "\n",
    "for k in test_t2s:\n",
    "    cutoff_probs[k] = np.zeros(shape=mean_cyto.shape)\n",
    "    pdfs[k] = np.zeros(shape=mean_cyto.shape)\n",
    "    cdfs[k] = np.zeros(shape=mean_cyto.shape)\n",
    "    \n",
    "responses = np.zeros(shape=(len(test_t2s),mean_cyto.shape[0]))\n",
    "\n",
    "j = 0\n",
    "\n",
    "for k in test_t2s:\n",
    "    for i in range(0,mean_cyto.shape[0]):\n",
    "        cutoff_probs[k][i] = st.t.sf(k,df=dof,loc=t2[i],scale=effective_sigma[i])\n",
    "        pdfs[k][i] = st.t.pdf(k,df=dof,loc=t2[i],scale=effective_sigma[i])\n",
    "        \n",
    "    pdfs[k] *= 1.0/np.sum(pdfs[k])\n",
    "    \n",
    "    x = copy.deepcopy(pdfs[k][::-1])\n",
    "    cdfs[k] = np.round(np.array([np.sum(x[m:]) for m in range(0,pdfs[k].shape[0])]),3)\n",
    "    \n",
    "    responses[j,:] = pdfs[k]\n",
    "    \n",
    "    j += 1"
   ]
  },
  {
   "cell_type": "code",
   "execution_count": null,
   "metadata": {},
   "outputs": [],
   "source": [
    "fig = plt.figure(tight_layout=True,figsize=(15,10))\n",
    "gs = fig.add_gridspec(len(test_t2s),3, hspace=0)\n",
    "\n",
    "ax = fig.add_subplot(gs[:,0])\n",
    "ax.plot(100-mean_cyto,t2,linewidth=4,color='#660000',alpha=0.6,label=fitname)\n",
    "\n",
    "ax.fill_between(100-mean_cyto,t2_up,t2_low,alpha=0.15,color='#660000',linewidth=0.0)\n",
    "ax.fill_between(100-mean_cyto,rt2_up,rt2_low,alpha=0.2,color='#660000',linewidth=0.0)\n",
    "\n",
    "ax.set_title(r'T2$_{\\mathrm{est}}$-vs-LDH',size=22,pad=10)\n",
    "\n",
    "ax.tick_params(axis='both',labelsize=24)\n",
    "ax.set_yticks(test_t2s)\n",
    "ax.set_xlabel(r'100$-$%$C$, 24 h',size=24,labelpad=10)\n",
    "ax.set_ylabel(r'T2$_{\\mathrm{est}}$ (h)',size=24,rotation=90,labelpad=10)\n",
    "ax.set_ylim(75,275)\n",
    "ax.set_xlim(np.min(100-mean_cyto),np.max(100-mean_cyto))\n",
    "\n",
    "for t in test_t2s:\n",
    "    _alpha = 0.25 + 0.75*(t - np.min(test_t2s))/(np.max(test_t2s) - np.min(test_t2s))\n",
    "    \n",
    "    ax.plot(100-mean_cyto,t*np.ones(shape=mean_cyto.shape[0]),color='black',lw=3,alpha=_alpha)\n",
    "    \n",
    "for k in range(len(test_t2s)):\n",
    "    ax = fig.add_subplot(gs[k,1])\n",
    "    \n",
    "    _alpha = 0.25 + 0.75*(test_t2s[k] - np.min(test_t2s))/(np.max(test_t2s) - np.min(test_t2s))\n",
    "    \n",
    "    ax.plot(100-mean_cyto,cutoff_probs[test_t2s[k]],lw=3,color='black',label=str(test_t2s[k])+' h',alpha=_alpha)\n",
    "    ax.tick_params(axis='y',labelsize=12)\n",
    "    ax.set_ylim(-0.02,1.2)\n",
    "    ax.set_xlim(np.min(100-mean_cyto),np.max(100-mean_cyto))\n",
    "    ax.legend(frameon=True,prop={'size': 18,'family':'Times New Roman'},markerscale=1.0,handlelength=0.8,loc='best')\n",
    "\n",
    "    ax.tick_params(axis='y',labelsize=16)\n",
    "    \n",
    "    if k==len(test_t2s)-1:\n",
    "        ax.tick_params(axis='x',labelsize=24)\n",
    "    else:\n",
    "        ax.tick_params(axis='x',labelsize=0)\n",
    "        \n",
    "    if k==0:\n",
    "        ax.set_title(r'P[T2$_{\\mathrm{est}}$ $\\geq$ T2$_{\\mathrm{cutoff}}$]',size=22,pad=10)\n",
    "        \n",
    "ax.set_xlabel(r'100$-$%$C$, 24 h',size=24,labelpad=10)\n",
    "    \n",
    "for k in range(len(test_t2s)):\n",
    "    ax = fig.add_subplot(gs[k,2])\n",
    "    \n",
    "    _alpha = 0.25 + 0.75*(test_t2s[k] - np.min(test_t2s))/(np.max(test_t2s) - np.min(test_t2s))\n",
    "    \n",
    "    ax.plot(100-mean_cyto,pdfs[test_t2s[k]],lw=3,color='black',label=str(test_t2s[k])+' h',alpha=_alpha)\n",
    "    ax.tick_params(axis='y',labelsize=12)\n",
    "    #ax.set_ylim(-0.02,1.2)\n",
    "    ax.set_xlim(np.min(100-mean_cyto),np.max(100-mean_cyto))\n",
    "    ax.legend(frameon=True,prop={'size': 18,'family':'Times New Roman'},markerscale=1.0,handlelength=0.8,loc='best')\n",
    "\n",
    "    ax.set_ylim(-0.01,0.07)\n",
    "    \n",
    "    ax.tick_params(axis='y',labelsize=16)\n",
    "    \n",
    "    if k==len(test_t2s)-1:\n",
    "        ax.tick_params(axis='x',labelsize=24)\n",
    "    else:\n",
    "        ax.tick_params(axis='x',labelsize=0)\n",
    "        \n",
    "    if k==0:\n",
    "        ax.set_title('P[LDH|T2$_{\\mathrm{est}}$]',size=22,pad=10)\n",
    "          \n",
    "ax.set_xlabel(r'100$-$%$C$, 24 h',size=24,labelpad=10)\n",
    "    \n",
    "#ax.tight_layout()\n",
    "#plt.savefig('cyto-24h-T2-probabilities-combined.png',dpi=300)"
   ]
  },
  {
   "cell_type": "code",
   "execution_count": null,
   "metadata": {},
   "outputs": [],
   "source": [
    "wd = 3\n",
    "\n",
    "l = int((len(test_t2s)-1)*wd)\n",
    "\n",
    "fig = plt.figure(figsize=(l,wd))\n",
    "gs = fig.add_gridspec(ncols=len(test_t2s)-1, nrows=1, wspace=0)\n",
    "\n",
    "axs = gs.subplots(sharex=True,sharey=True)\n",
    "\n",
    "all_aucs = []\n",
    "\n",
    "test_t2s = test_t2s[::-1]\n",
    "\n",
    "wf = open('auc_summary.csv','w')\n",
    "print('Time interval,AUC',file=wf)\n",
    "\n",
    "for k in range(0,len(test_t2s)-1):  \n",
    "    dx = copy.deepcopy(cdfs[test_t2s[k]][::-1])\n",
    "    dy = copy.deepcopy(cdfs[test_t2s[k+1]][::-1])\n",
    "    \n",
    "    all_aucs.append(auc(dy,dx))\n",
    "    \n",
    "    label_text = str(round(all_aucs[-1],3))\n",
    "    \n",
    "    axs[k].plot(cdfs[test_t2s[k+1]],cdfs[test_t2s[k]],lw=2,color='black',label=label_text)\n",
    "    axs[k].fill_between(cdfs[test_t2s[k+1]],0,cdfs[test_t2s[k]],color='black',alpha=0.3)#,label=str(test_t2s[k])+' h',alpha=_alpha)\n",
    "    axs[k].set_xticks((0,1))\n",
    "    axs[k].set_yticks((0,1))\n",
    "    axs[k].tick_params(axis='both',labelsize=16)\n",
    "    axs[k].legend(frameon=False,prop={'size': 18,'family':'Arial'},markerscale=1.0,handlelength=0.0,loc='lower right')\n",
    "    axs[k].set_title(str(test_t2s[k])+'h - '+str(test_t2s[k+1])+'h',fontsize=16)\n",
    "    \n",
    "    output_string = str(test_t2s[k+1])+'h - '+str(test_t2s[k])+'h'\n",
    "    output_string += ',' + label_text\n",
    "    \n",
    "    print(output_string,file=wf)\n",
    "    \n",
    "wf.close()"
   ]
  },
  {
   "cell_type": "code",
   "execution_count": 15,
   "metadata": {},
   "outputs": [],
   "source": [
    "LDH0 = pd.read_csv('cytotoxicity_data-day0.csv')\n",
    "\n",
    "tags = ['17','19','21','23']\n",
    "\n",
    "weight1 = pd.Series([0.2, 0.3, 0.4, 0.5, 0.6, 0.7, 0.8, 0.95])\n",
    "colors1 = weight1.apply(lambda x: (0,0,0,x)).tolist()"
   ]
  },
  {
   "cell_type": "code",
   "execution_count": 16,
   "metadata": {},
   "outputs": [],
   "source": [
    "all_data = {}\n",
    "\n",
    "for tag in tags:\n",
    "    all_data['Assay'+tag] = LDH0['Assay'+tag].to_numpy()\n",
    "    all_data['T2-'+tag] = 85.77*np.power(LDH0['AODAPI'+tag].to_numpy()/100,-1.7)"
   ]
  },
  {
   "cell_type": "code",
   "execution_count": 17,
   "metadata": {},
   "outputs": [],
   "source": [
    "cytos, t2s = [], []\n",
    "\n",
    "for tag in tags:\n",
    "    for a,b in zip(all_data['Assay'+tag],all_data['T2-'+tag]):\n",
    "        cytos.append(a)\n",
    "        t2s.append(b) "
   ]
  },
  {
   "cell_type": "code",
   "execution_count": 18,
   "metadata": {},
   "outputs": [],
   "source": [
    "results = optim.curve_fit(linear,cytos,t2s,absolute_sigma=False,full_output=True)\n",
    "\n",
    "popt, pcov = results[0], results[1]\n",
    "\n",
    "p_std = np.sqrt(np.diag(pcov))\n",
    "\n",
    "fitname = r'T2$_{\\mathrm{est}}$ = ' + str(round(popt[0],2)) + '+' + str(round(popt[1],2)) +'%$C$'"
   ]
  },
  {
   "cell_type": "code",
   "execution_count": 19,
   "metadata": {},
   "outputs": [],
   "source": [
    "mean_cyto = np.linspace(np.min(cytos),np.max(cytos),50)\n",
    "mean_t2 = linear(mean_cyto,popt[0],popt[1])"
   ]
  },
  {
   "cell_type": "code",
   "execution_count": 20,
   "metadata": {},
   "outputs": [
    {
     "name": "stdout",
     "output_type": "stream",
     "text": [
      "45.01553502351084\n"
     ]
    }
   ],
   "source": [
    "residual = linear(np.array(cytos),popt[0],popt[1]) - np.array(t2s)\n",
    "\n",
    "norm_RSS = math.sqrt(np.dot(residual,residual)/(len(t2s)-2))\n",
    "\n",
    "print(norm_RSS)\n",
    "\n",
    "RSS_text = r's.d. = ' + str(round(norm_RSS,2)) + ' h'"
   ]
  },
  {
   "cell_type": "code",
   "execution_count": 21,
   "metadata": {},
   "outputs": [
    {
     "name": "stdout",
     "output_type": "stream",
     "text": [
      "LinregressResult(slope=18.739469338030542, intercept=-23.327390771236196, rvalue=0.5835731831758544, pvalue=0.0004549994945882279, stderr=4.760907551904148, intercept_stderr=39.48775011266707)\n"
     ]
    }
   ],
   "source": [
    "result = st.linregress(np.array(cytos),t2s,alternative='two-sided')\n",
    "print(result)\n",
    "\n",
    "r_text = r'R$^2 = ' + str(round(result.rvalue**2,3)) + '$'"
   ]
  },
  {
   "cell_type": "code",
   "execution_count": 22,
   "metadata": {},
   "outputs": [],
   "source": [
    "n_samples = 10000\n",
    "\n",
    "s_is, i_is = [], []\n",
    "\n",
    "t2_up = np.zeros(shape=mean_cyto.shape)\n",
    "t2_low = np.zeros(shape=mean_cyto.shape)\n",
    "\n",
    "rt2_up = np.zeros(shape=mean_cyto.shape)\n",
    "rt2_low = np.zeros(shape=mean_cyto.shape)\n",
    "\n",
    "effective_sigma = np.zeros(shape=mean_cyto.shape)\n",
    "\n",
    "for i in range(0,mean_cyto.shape[0]):\n",
    "    samples = []\n",
    "    \n",
    "    a_samples, b_samples = np.random.multivariate_normal(popt,pcov,n_samples).T\n",
    "        \n",
    "    for a_sample,b_sample in zip(a_samples,b_samples):\n",
    "        samples.append(linear(mean_cyto[i],a_sample,b_sample))\n",
    "        \n",
    "    sigma = np.std(samples)\n",
    "    \n",
    "    effective_sigma[i] = math.sqrt(sigma**2 + norm_RSS**2)\n",
    "    \n",
    "    ci95 = effective_sigma[i]*ts\n",
    "        \n",
    "    t2_low[i], t2_up[i] = mean_t2[i] - ci95, mean_t2[i] + ci95\n",
    "    \n",
    "    rt2_low[i], rt2_up[i] = mean_t2[i] - sigma*ts, mean_t2[i] + sigma*ts"
   ]
  },
  {
   "cell_type": "code",
   "execution_count": 23,
   "metadata": {},
   "outputs": [
    {
     "data": {
      "text/plain": [
       "Text(91, 220, 'T2$_{\\\\mathrm{est}}$ = -23.33+18.74%$C$')"
      ]
     },
     "execution_count": 23,
     "metadata": {},
     "output_type": "execute_result"
    },
    {
     "data": {
      "image/png": "[encoded data removed]",
      "text/plain": [
       "<Figure size 576x504 with 1 Axes>"
      ]
     },
     "metadata": {
      "needs_background": "light"
     },
     "output_type": "display_data"
    }
   ],
   "source": [
    "fig, axs = plt.subplots(figsize=(8,7))\n",
    "\n",
    "rcParams['font.family'] = 'sans-serif'\n",
    "rcParams['font.sans-serif'] = ['Times New Roman']\n",
    "\n",
    "markers = {'17':'o','19':'^','21':'X','23':'D'}\n",
    "\n",
    "for tag in tags:\n",
    "    plt.scatter(100-all_data['Assay'+tag],all_data['T2-'+tag],marker=markers[tag],linewidth=0,s=140,c=colors1)\n",
    "    \n",
    "    plt.scatter(100-all_data['Assay'+tag][-1],all_data['T2-'+tag][-1],marker=markers[tag],s=140,c='black',label='LDH '+tag)\n",
    "    \n",
    "plt.plot(100-mean_cyto,mean_t2,linewidth=4,color='#660000',alpha=0.6)#,label=fitname)\n",
    "\n",
    "plt.xticks(size=20)\n",
    "plt.yticks(size=20) \n",
    "\n",
    "plt.xlim(87,96)\n",
    "\n",
    "plt.fill_between(100-mean_cyto,rt2_up,rt2_low,alpha=0.2,color='#000088',linewidth=0.0)\n",
    "\n",
    "plt.legend(frameon=False,prop={'size': 18},markerscale=1.0,handlelength=1.0,loc='lower left')\n",
    "\n",
    "plt.xlabel(r'Cytotoxicity, 100-%$C$, 0 h',size=22)\n",
    "plt.ylabel(r'T2$_{\\mathrm{est}}$ (h)',size=22,rotation=90)\n",
    "plt.text(93.5,270,r_text,fontsize=18)\n",
    "\n",
    "plt.ylim(0,300)\n",
    "\n",
    "plt.text(93,245,RSS_text,fontsize=22)\n",
    "\n",
    "plt.text(91,220,fitname,fontsize=22)"
   ]
  },
  {
   "cell_type": "code",
   "execution_count": null,
   "metadata": {},
   "outputs": [],
   "source": []
  }
 ],
 "metadata": {
  "kernelspec": {
   "display_name": "Python 3",
   "language": "python",
   "name": "python3"
  },
  "language_info": {
   "codemirror_mode": {
    "name": "ipython",
    "version": 3
   },
   "file_extension": ".py",
   "mimetype": "text/x-python",
   "name": "python",
   "nbconvert_exporter": "python",
   "pygments_lexer": "ipython3",
   "version": "3.7.3"
  }
 },
 "nbformat": 4,
 "nbformat_minor": 4
}
