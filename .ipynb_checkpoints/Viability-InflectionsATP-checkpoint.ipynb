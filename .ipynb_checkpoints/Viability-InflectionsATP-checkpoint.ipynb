{
 "cells": [
  {
   "cell_type": "code",
   "execution_count": 1,
   "metadata": {},
   "outputs": [],
   "source": [
    "import numpy as np\n",
    "import scipy.optimize as optim\n",
    "import math\n",
    "import os,sys\n",
    "import pandas as pd\n",
    "import copy"
   ]
  },
  {
   "cell_type": "code",
   "execution_count": 2,
   "metadata": {},
   "outputs": [],
   "source": [
    "def ATPfunc(x,a,b):\n",
    "    return (a + b*x)\n",
    "    \n",
    "    #return (a + b*(x-np.log(100)))"
   ]
  },
  {
   "cell_type": "code",
   "execution_count": 3,
   "metadata": {},
   "outputs": [],
   "source": [
    "data_folder = '/Users/sns9/Research/GrowthCurves/CompleteData/'\n",
    "os.chdir(data_folder)\n",
    "\n",
    "ATP_offset = 1"
   ]
  },
  {
   "cell_type": "code",
   "execution_count": 9,
   "metadata": {},
   "outputs": [
    {
     "name": "stdout",
     "output_type": "stream",
     "text": [
      "['AODAPI', 'T1']\n",
      "1\n"
     ]
    }
   ],
   "source": [
    "#v_data = pd.read_csv('Viability_T1-ATP-fit.csv',)\n",
    "\n",
    "print(list(v_data)) \n",
    "n_data = 0\n",
    "\n",
    "for n in list(v_data):\n",
    "    if 'T1' in n:\n",
    "        n_data += 1\n",
    "        \n",
    "print(n_data)"
   ]
  },
  {
   "cell_type": "code",
   "execution_count": 10,
   "metadata": {},
   "outputs": [
    {
     "name": "stdout",
     "output_type": "stream",
     "text": [
      "[91.04825156 90.41634933 85.12091253 78.79769836 77.35471704 65.48592972\n",
      " 62.26655348 96.18375836 94.70832686 89.54151808 83.75735913 71.58916709\n",
      " 68.47107004 97.0877899  91.58067542 77.32832916 61.26893939]\n"
     ]
    }
   ],
   "source": [
    "xs = v_data['AODAPI'].to_numpy()\n",
    "max_atp = np.max(xs)\n",
    "print(xs)"
   ]
  },
  {
   "cell_type": "code",
   "execution_count": 11,
   "metadata": {},
   "outputs": [
    {
     "name": "stdout",
     "output_type": "stream",
     "text": [
      "[91.04825156 90.41634933 85.12091253 78.79769836 77.35471704 65.48592972\n",
      " 62.26655348 96.18375836 94.70832686 89.54151808 83.75735913 71.58916709\n",
      " 68.47107004 97.0877899  91.58067542 77.32832916 61.26893939] [ 26.97659766  48.65706571  52.65346535  90.51935194 132.4815482\n",
      " 171.0468047  385.0540054   58.44824482  60.64626463  63.84338434\n",
      " 106.5049505  123.289829   156.459946    56.94959496  71.23672367\n",
      " 131.0828083  156.559856  ]\n"
     ]
    }
   ],
   "source": [
    "x_data = np.zeros(shape=(n_data*xs.shape[0],))\n",
    "y_data = np.zeros(shape=(n_data*xs.shape[0],))\n",
    "\n",
    "n = 0\n",
    "\n",
    "for k in list(v_data):\n",
    "    if 'T1' in k:\n",
    "        x_data[n:n+xs.shape[0]] = xs #- ATP_offset\n",
    "        y_data[n:n+xs.shape[0]] = v_data[k].to_numpy()\n",
    "        \n",
    "        n += xs.shape[0]\n",
    "        \n",
    "print(x_data,y_data)"
   ]
  },
  {
   "cell_type": "code",
   "execution_count": 12,
   "metadata": {},
   "outputs": [
    {
     "name": "stdout",
     "output_type": "stream",
     "text": [
      "[20.05383813 -3.54218272]\n",
      "[2.32996182 0.53077801]\n"
     ]
    }
   ],
   "source": [
    "popt, pcov = optim.curve_fit(ATPfunc,np.log(x_data),np.log(y_data))\n",
    "print(popt)\n",
    "perr = np.sqrt(np.diag(pcov))\n",
    "print(perr)\n",
    "\n",
    "popt_ul = copy.deepcopy(popt)\n",
    "popt_ul[0] += 2*perr[0]\n",
    "popt_ul[1] -= 2*perr[1]\n",
    "#opt_ul[2] += perr[2]\n",
    "\n",
    "popt_ll = copy.deepcopy(popt)\n",
    "popt_ll[0] -= 2*perr[0]\n",
    "popt_ll[1] += 2*perr[1]\n",
    "#opt_ll[2] -= perr[2]"
   ]
  },
  {
   "cell_type": "code",
   "execution_count": 13,
   "metadata": {},
   "outputs": [],
   "source": [
    "#atp_array = np.log(np.linspace(0.2,0.8,51))#-ATP_offset)\n",
    "atp_array = np.log(np.linspace(60,100,51))#-ATP_offset)\n",
    "ts = math.exp(1)**ATPfunc(atp_array,popt[0],popt[1])\n",
    "\n",
    "t_ul = math.exp(1)**ATPfunc(atp_array,popt_ul[0],popt_ul[1])\n",
    "t_ll = math.exp(1)**ATPfunc(atp_array,popt_ll[0],popt_ll[1])\n",
    "\n",
    "#atp_array = np.log(np.linspace(90,100,41))\n",
    "\n",
    "total_data = np.zeros(shape=(ts.shape[0],4))\n",
    "total_data[:,0] = math.exp(1)**atp_array #+ ATP_offset\n",
    "total_data[:,1] = ts\n",
    "total_data[:,2] = t_ul - ts\n",
    "total_data[:,3] = ts - t_ll\n",
    "\n",
    "cols = ['x','y','+','-']\n",
    "solved_data = pd.DataFrame(total_data,columns=cols)\n",
    "solved_data.to_csv('paired-AODAPIT1_fit-24-g.csv',index=None)\n",
    "\n",
    "#np.savetxt('viability_fit-60.csv',total_data,delimiter=',')"
   ]
  },
  {
   "cell_type": "code",
   "execution_count": null,
   "metadata": {},
   "outputs": [],
   "source": []
  }
 ],
 "metadata": {
  "kernelspec": {
   "display_name": "Python 3",
   "language": "python",
   "name": "python3"
  },
  "language_info": {
   "codemirror_mode": {
    "name": "ipython",
    "version": 3
   },
   "file_extension": ".py",
   "mimetype": "text/x-python",
   "name": "python",
   "nbconvert_exporter": "python",
   "pygments_lexer": "ipython3",
   "version": "3.7.3"
  }
 },
 "nbformat": 4,
 "nbformat_minor": 4
}
